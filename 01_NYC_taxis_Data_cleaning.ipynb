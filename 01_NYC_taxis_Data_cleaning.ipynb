{
  "nbformat": 4,
  "nbformat_minor": 0,
  "metadata": {
    "colab": {
      "name": "01 NYC taxis - Data cleaning.ipynb",
      "provenance": [],
      "collapsed_sections": []
    },
    "kernelspec": {
      "name": "python3",
      "display_name": "Python 3"
    },
    "language_info": {
      "name": "python"
    }
  },
  "cells": [
    {
      "cell_type": "markdown",
      "source": [
        "This document covers the cleaning of the dataset.\n",
        "\n"
      ],
      "metadata": {
        "id": "480izbqHdnSb"
      }
    },
    {
      "cell_type": "markdown",
      "source": [
        "#Install and import libraries"
      ],
      "metadata": {
        "id": "MEgM0Qy3z3Yl"
      }
    },
    {
      "cell_type": "markdown",
      "source": [
        "Installation of Spark in Google Colab (Code extracted from: https://www.pauldesalvo.com/how-to-install-spark-on-google-colab/)"
      ],
      "metadata": {
        "id": "eNubE-YrtvRz"
      }
    },
    {
      "cell_type": "code",
      "execution_count": null,
      "metadata": {
        "colab": {
          "base_uri": "https://localhost:8080/",
          "height": 933
        },
        "id": "D6a-TOBXrwfW",
        "outputId": "c849be8c-1665-48db-e9b1-c6e4db0adabe"
      },
      "outputs": [
        {
          "output_type": "stream",
          "name": "stdout",
          "text": [
            "\u001b[33m\r0% [Working]\u001b[0m\r            \rHit:1 https://developer.download.nvidia.com/compute/cuda/repos/ubuntu1804/x86_64  InRelease\n",
            "Get:2 https://cloud.r-project.org/bin/linux/ubuntu bionic-cran40/ InRelease [3,626 B]\n",
            "Hit:3 http://archive.ubuntu.com/ubuntu bionic InRelease\n",
            "Get:4 http://security.ubuntu.com/ubuntu bionic-security InRelease [88.7 kB]\n",
            "Hit:5 http://ppa.launchpad.net/c2d4u.team/c2d4u4.0+/ubuntu bionic InRelease\n",
            "Get:6 http://archive.ubuntu.com/ubuntu bionic-updates InRelease [88.7 kB]\n",
            "Ign:7 https://developer.download.nvidia.com/compute/machine-learning/repos/ubuntu1804/x86_64  InRelease\n",
            "Hit:8 https://developer.download.nvidia.com/compute/machine-learning/repos/ubuntu1804/x86_64  Release\n",
            "Hit:9 http://ppa.launchpad.net/cran/libgit2/ubuntu bionic InRelease\n",
            "Hit:10 http://ppa.launchpad.net/deadsnakes/ppa/ubuntu bionic InRelease\n",
            "Get:11 http://archive.ubuntu.com/ubuntu bionic-backports InRelease [74.6 kB]\n",
            "Hit:12 http://ppa.launchpad.net/graphics-drivers/ppa/ubuntu bionic InRelease\n",
            "Get:14 http://security.ubuntu.com/ubuntu bionic-security/multiverse amd64 Packages [22.8 kB]\n",
            "Get:15 http://security.ubuntu.com/ubuntu bionic-security/universe amd64 Packages [1,521 kB]\n",
            "Get:16 http://archive.ubuntu.com/ubuntu bionic-updates/universe amd64 Packages [2,297 kB]\n",
            "Get:17 http://security.ubuntu.com/ubuntu bionic-security/main amd64 Packages [2,861 kB]\n",
            "Get:18 http://security.ubuntu.com/ubuntu bionic-security/restricted amd64 Packages [1,006 kB]\n",
            "Get:19 http://archive.ubuntu.com/ubuntu bionic-updates/restricted amd64 Packages [1,040 kB]\n",
            "Get:20 http://archive.ubuntu.com/ubuntu bionic-updates/multiverse amd64 Packages [29.8 kB]\n",
            "Get:21 http://archive.ubuntu.com/ubuntu bionic-updates/main amd64 Packages [3,294 kB]\n",
            "Get:22 http://archive.ubuntu.com/ubuntu bionic-backports/main amd64 Packages [12.2 kB]\n",
            "Fetched 12.3 MB in 3s (4,505 kB/s)\n",
            "Reading package lists... Done\n",
            "Building dependency tree       \n",
            "Reading state information... Done\n",
            "49 packages can be upgraded. Run 'apt list --upgradable' to see them.\n",
            "Looking in indexes: https://pypi.org/simple, https://us-python.pkg.dev/colab-wheels/public/simple/\n",
            "Collecting pyspark\n",
            "  Downloading pyspark-3.3.0.tar.gz (281.3 MB)\n",
            "\u001b[K     |████████████████████████████████| 281.3 MB 39 kB/s \n",
            "\u001b[?25hCollecting py4j==0.10.9.5\n",
            "  Downloading py4j-0.10.9.5-py2.py3-none-any.whl (199 kB)\n",
            "\u001b[K     |████████████████████████████████| 199 kB 50.4 MB/s \n",
            "\u001b[?25hBuilding wheels for collected packages: pyspark\n",
            "  Building wheel for pyspark (setup.py) ... \u001b[?25l\u001b[?25hdone\n",
            "  Created wheel for pyspark: filename=pyspark-3.3.0-py2.py3-none-any.whl size=281764026 sha256=c5a10eb1c5e376dfe321522c0cc9bc6a7c3afe645be4d552e169da731728691b\n",
            "  Stored in directory: /root/.cache/pip/wheels/7a/8e/1b/f73a52650d2e5f337708d9f6a1750d451a7349a867f928b885\n",
            "Successfully built pyspark\n",
            "Installing collected packages: py4j, pyspark\n",
            "Successfully installed py4j-0.10.9.5 pyspark-3.3.0\n"
          ]
        },
        {
          "output_type": "execute_result",
          "data": {
            "text/plain": [
              "<pyspark.sql.session.SparkSession at 0x7f7ae481e690>"
            ],
            "text/html": [
              "\n",
              "            <div>\n",
              "                <p><b>SparkSession - in-memory</b></p>\n",
              "                \n",
              "        <div>\n",
              "            <p><b>SparkContext</b></p>\n",
              "\n",
              "            <p><a href=\"http://3ee23cd8ec07:4040\">Spark UI</a></p>\n",
              "\n",
              "            <dl>\n",
              "              <dt>Version</dt>\n",
              "                <dd><code>v3.2.1</code></dd>\n",
              "              <dt>Master</dt>\n",
              "                <dd><code>local[*]</code></dd>\n",
              "              <dt>AppName</dt>\n",
              "                <dd><code>Our First Spark example</code></dd>\n",
              "            </dl>\n",
              "        </div>\n",
              "        \n",
              "            </div>\n",
              "        "
            ]
          },
          "metadata": {},
          "execution_count": 1
        }
      ],
      "source": [
        "!sudo apt update\n",
        "!apt-get install openjdk-8-jdk-headless -qq > /dev/null\n",
        "!wget -q https://dlcdn.apache.org/spark/spark-3.2.1/spark-3.2.1-bin-hadoop3.2.tgz\n",
        "!tar xf spark-3.2.1-bin-hadoop3.2.tgz\n",
        "!pip install -q findspark\n",
        "!pip install pyspark\n",
        "\n",
        "import os\n",
        "os.environ[\"JAVA_HOME\"] = \"/usr/lib/jvm/java-8-openjdk-amd64\"\n",
        "os.environ[\"SPARK_HOME\"] = \"/content/spark-3.2.1-bin-hadoop3.2\"\n",
        "\n",
        "import findspark\n",
        "findspark.init()\n",
        "findspark.find()\n",
        "\n",
        "from pyspark.sql import DataFrame, SparkSession\n",
        "from typing import List\n",
        "import pyspark.sql.types as T\n",
        "import pyspark.sql.functions as F\n",
        "\n",
        "spark = SparkSession \\\n",
        "       .builder \\\n",
        "       .appName(\"Our First Spark example\") \\\n",
        "       .getOrCreate()\n",
        "\n",
        "spark"
      ]
    },
    {
      "cell_type": "markdown",
      "source": [
        "Import other needed libraries"
      ],
      "metadata": {
        "id": "NHh33C-w5hQy"
      }
    },
    {
      "cell_type": "code",
      "source": [
        "import pyspark.sql.functions as F\n",
        "import seaborn as sns\n",
        "import datetime"
      ],
      "metadata": {
        "id": "z4G6K8bxxvoc"
      },
      "execution_count": null,
      "outputs": []
    },
    {
      "cell_type": "markdown",
      "source": [
        "# Custom methods definition"
      ],
      "metadata": {
        "id": "FPkiR4Le_l35"
      }
    },
    {
      "cell_type": "code",
      "source": [
        "#Method to extract percentiles of a given variable\n",
        "def show_quantiles(df, variable_to_analyze):\n",
        "\n",
        "  return df.agg(F.expr('percentile('+variable_to_analyze+', 0.00)').alias('%0'),\n",
        "                F.expr('percentile('+variable_to_analyze+', 0.01)').alias('%1'),\n",
        "                F.expr('percentile('+variable_to_analyze+', 0.02)').alias('%2'),\n",
        "                F.expr('percentile('+variable_to_analyze+', 0.03)').alias('%3'),\n",
        "                F.expr('percentile('+variable_to_analyze+', 0.04)').alias('%4'),\n",
        "                F.expr('percentile('+variable_to_analyze+', 0.05)').alias('%5'),\n",
        "\n",
        "                F.expr('percentile('+variable_to_analyze+', 0.10)').alias('%10'),\n",
        "                F.expr('percentile('+variable_to_analyze+', 0.15)').alias('%15'),\n",
        "                F.expr('percentile('+variable_to_analyze+', 0.20)').alias('%20'),\n",
        "                F.expr('percentile('+variable_to_analyze+', 0.25)').alias('%25'),\n",
        "                F.expr('percentile('+variable_to_analyze+', 0.30)').alias('%30'),\n",
        "                F.expr('percentile('+variable_to_analyze+', 0.35)').alias('%35'),\n",
        "                F.expr('percentile('+variable_to_analyze+', 0.40)').alias('%40'),\n",
        "                F.expr('percentile('+variable_to_analyze+', 0.45)').alias('%45'),\n",
        "                F.expr('percentile('+variable_to_analyze+', 0.50)').alias('%50'),\n",
        "                F.expr('percentile('+variable_to_analyze+', 0.55)').alias('%55'),\n",
        "                F.expr('percentile('+variable_to_analyze+', 0.60)').alias('%60'),\n",
        "                F.expr('percentile('+variable_to_analyze+', 0.65)').alias('%65'),\n",
        "                F.expr('percentile('+variable_to_analyze+', 0.70)').alias('%70'),\n",
        "                F.expr('percentile('+variable_to_analyze+', 0.75)').alias('%75'),\n",
        "                F.expr('percentile('+variable_to_analyze+', 0.80)').alias('%80'),\n",
        "                F.expr('percentile('+variable_to_analyze+', 0.85)').alias('%85'),\n",
        "                F.expr('percentile('+variable_to_analyze+', 0.90)').alias('%90'),\n",
        "\n",
        "                F.expr('percentile('+variable_to_analyze+', 0.95)').alias('%95'),\n",
        "                F.expr('percentile('+variable_to_analyze+', 0.96)').alias('%96'),\n",
        "                F.expr('percentile('+variable_to_analyze+', 0.97)').alias('%97'),\n",
        "                F.expr('percentile('+variable_to_analyze+', 0.98)').alias('%98'),\n",
        "                F.expr('percentile('+variable_to_analyze+', 0.99)').alias('%99'),\n",
        "                F.expr('percentile('+variable_to_analyze+', 1.00)').alias('%100')\n",
        "              )"
      ],
      "metadata": {
        "id": "fmeRvgEo_npo"
      },
      "execution_count": null,
      "outputs": []
    },
    {
      "cell_type": "code",
      "source": [
        "#Method to extract percentiles of a given variable (with more detail at the tails of the distribution)\n",
        "def show_quantiles_with_tail_detail(df, variable_to_analyze):\n",
        "  return df.agg(F.expr('percentile('+variable_to_analyze+', 0.00)').alias('%0'),\n",
        "                \n",
        "                F.expr('percentile('+variable_to_analyze+', 0.001)').alias('%0.1'),\n",
        "                F.expr('percentile('+variable_to_analyze+', 0.005)').alias('%0.5'),\n",
        "\n",
        "                F.expr('percentile('+variable_to_analyze+', 0.01)').alias('%1'),\n",
        "                F.expr('percentile('+variable_to_analyze+', 0.02)').alias('%2'),\n",
        "                F.expr('percentile('+variable_to_analyze+', 0.03)').alias('%3'),\n",
        "                F.expr('percentile('+variable_to_analyze+', 0.04)').alias('%4'),\n",
        "                F.expr('percentile('+variable_to_analyze+', 0.05)').alias('%5'),\n",
        "\n",
        "                F.expr('percentile('+variable_to_analyze+', 0.10)').alias('%10'),\n",
        "                F.expr('percentile('+variable_to_analyze+', 0.15)').alias('%15'),\n",
        "                F.expr('percentile('+variable_to_analyze+', 0.20)').alias('%20'),\n",
        "                F.expr('percentile('+variable_to_analyze+', 0.25)').alias('%25'),\n",
        "                F.expr('percentile('+variable_to_analyze+', 0.30)').alias('%30'),\n",
        "                F.expr('percentile('+variable_to_analyze+', 0.35)').alias('%35'),\n",
        "                F.expr('percentile('+variable_to_analyze+', 0.40)').alias('%40'),\n",
        "                F.expr('percentile('+variable_to_analyze+', 0.45)').alias('%45'),\n",
        "                F.expr('percentile('+variable_to_analyze+', 0.50)').alias('%50'),\n",
        "                F.expr('percentile('+variable_to_analyze+', 0.55)').alias('%55'),\n",
        "                F.expr('percentile('+variable_to_analyze+', 0.60)').alias('%60'),\n",
        "                F.expr('percentile('+variable_to_analyze+', 0.65)').alias('%65'),\n",
        "                F.expr('percentile('+variable_to_analyze+', 0.70)').alias('%70'),\n",
        "                F.expr('percentile('+variable_to_analyze+', 0.75)').alias('%75'),\n",
        "                F.expr('percentile('+variable_to_analyze+', 0.80)').alias('%80'),\n",
        "                F.expr('percentile('+variable_to_analyze+', 0.85)').alias('%85'),\n",
        "                F.expr('percentile('+variable_to_analyze+', 0.90)').alias('%90'),\n",
        "\n",
        "                F.expr('percentile('+variable_to_analyze+', 0.95)').alias('%95'),\n",
        "                F.expr('percentile('+variable_to_analyze+', 0.96)').alias('%96'),\n",
        "                F.expr('percentile('+variable_to_analyze+', 0.97)').alias('%97'),\n",
        "                F.expr('percentile('+variable_to_analyze+', 0.98)').alias('%98'),\n",
        "                F.expr('percentile('+variable_to_analyze+', 0.99)').alias('%99'),\n",
        "\n",
        "                F.expr('percentile('+variable_to_analyze+', 0.995)').alias('%99.5'),\n",
        "                F.expr('percentile('+variable_to_analyze+', 0.999)').alias('%99.9'),\n",
        "\n",
        "                F.expr('percentile('+variable_to_analyze+', 1.00)').alias('%100')\n",
        "                )"
      ],
      "metadata": {
        "id": "D1ypYTB8IVpv"
      },
      "execution_count": null,
      "outputs": []
    },
    {
      "cell_type": "markdown",
      "source": [
        "# Read data and clean dates"
      ],
      "metadata": {
        "id": "FiCEL70Dz9cx"
      }
    },
    {
      "cell_type": "code",
      "source": [
        "from google.colab import drive\n",
        "drive.mount('/content/drive')"
      ],
      "metadata": {
        "colab": {
          "base_uri": "https://localhost:8080/"
        },
        "id": "jl3pesaSyOPr",
        "outputId": "07a848e6-642f-4830-9e14-ab378a4e66ad"
      },
      "execution_count": 1,
      "outputs": [
        {
          "output_type": "stream",
          "name": "stdout",
          "text": [
            "Mounted at /content/drive\n"
          ]
        }
      ]
    },
    {
      "cell_type": "code",
      "source": [
        "work_folder = '/content/drive/MyDrive/nyc_taxis/'"
      ],
      "metadata": {
        "id": "J29zk1Xpy54b"
      },
      "execution_count": 2,
      "outputs": []
    },
    {
      "cell_type": "markdown",
      "source": [
        "Download NYC data (Data downloaded from https://www1.nyc.gov/site/tlc/about/tlc-trip-record-data.page)"
      ],
      "metadata": {
        "id": "zcyrZtXgyQ72"
      }
    },
    {
      "cell_type": "code",
      "source": [
        "!wget --continue https://s3.amazonaws.com/nyc-tlc/trip+data/yellow_tripdata_2017-03.parquet -O $work_folder'yellow_tripdata_2017-03.parquet'"
      ],
      "metadata": {
        "colab": {
          "base_uri": "https://localhost:8080/"
        },
        "id": "fWRV9trXyqYM",
        "outputId": "9c0248d5-4f83-48b1-cc8b-3548b79c1f2f"
      },
      "execution_count": null,
      "outputs": [
        {
          "output_type": "stream",
          "name": "stdout",
          "text": [
            "--2022-06-20 22:17:38--  https://s3.amazonaws.com/nyc-tlc/trip+data/yellow_tripdata_2017-03.parquet\n",
            "Resolving s3.amazonaws.com (s3.amazonaws.com)... 52.216.106.77\n",
            "Connecting to s3.amazonaws.com (s3.amazonaws.com)|52.216.106.77|:443... connected.\n",
            "HTTP request sent, awaiting response... 416 Requested Range Not Satisfiable\n",
            "\n",
            "    The file is already fully retrieved; nothing to do.\n",
            "\n"
          ]
        }
      ]
    },
    {
      "cell_type": "code",
      "source": [
        "!wget --continue https://s3.amazonaws.com/nyc-tlc/trip+data/yellow_tripdata_2017-06.parquet -O $work_folder'yellow_tripdata_2017-06.parquet\n"
      ],
      "metadata": {
        "colab": {
          "base_uri": "https://localhost:8080/"
        },
        "id": "8nvPga2556qi",
        "outputId": "9dfca0b0-e10d-408b-c8ec-39ade497bf79"
      },
      "execution_count": null,
      "outputs": [
        {
          "output_type": "stream",
          "name": "stdout",
          "text": [
            "/bin/bash: -c: line 0: unexpected EOF while looking for matching `''\n",
            "/bin/bash: -c: line 1: syntax error: unexpected end of file\n"
          ]
        }
      ]
    },
    {
      "cell_type": "code",
      "source": [
        "!wget --continue https://s3.amazonaws.com/nyc-tlc/trip+data/yellow_tripdata_2017-11.parquet -O $work_folder'yellow_tripdata_2017-11.parquet"
      ],
      "metadata": {
        "colab": {
          "base_uri": "https://localhost:8080/"
        },
        "id": "M1A0gkKA57Cz",
        "outputId": "3d6a0fd0-a26b-4b0e-d04d-15e9f9773e02"
      },
      "execution_count": null,
      "outputs": [
        {
          "output_type": "stream",
          "name": "stdout",
          "text": [
            "/bin/bash: -c: line 0: unexpected EOF while looking for matching `''\n",
            "/bin/bash: -c: line 1: syntax error: unexpected end of file\n"
          ]
        }
      ]
    },
    {
      "cell_type": "code",
      "source": [
        "nyc_yellow_tripdata_2017_03 = spark.read.parquet(work_folder+\"yellow_tripdata_2017-03.parquet\")"
      ],
      "metadata": {
        "id": "_uKqANvYsYey"
      },
      "execution_count": null,
      "outputs": []
    },
    {
      "cell_type": "code",
      "source": [
        "nyc_yellow_tripdata_2017_03.show()"
      ],
      "metadata": {
        "colab": {
          "base_uri": "https://localhost:8080/"
        },
        "id": "Z9TUaqfEyj2g",
        "outputId": "1378fe95-f0ad-4f20-9131-6bcacb65faa5"
      },
      "execution_count": null,
      "outputs": [
        {
          "output_type": "stream",
          "name": "stdout",
          "text": [
            "+--------+--------------------+---------------------+---------------+-------------+----------+------------------+------------+------------+------------+-----------+-----+-------+----------+------------+---------------------+------------+--------------------+-----------+\n",
            "|VendorID|tpep_pickup_datetime|tpep_dropoff_datetime|passenger_count|trip_distance|RatecodeID|store_and_fwd_flag|PULocationID|DOLocationID|payment_type|fare_amount|extra|mta_tax|tip_amount|tolls_amount|improvement_surcharge|total_amount|congestion_surcharge|airport_fee|\n",
            "+--------+--------------------+---------------------+---------------+-------------+----------+------------------+------------+------------+------------+-----------+-----+-------+----------+------------+---------------------+------------+--------------------+-----------+\n",
            "|       1| 2017-03-01 00:38:16|  2017-03-01 00:59:21|              1|         10.5|         1|                 N|         231|          42|           1|       30.5|  0.5|    0.5|       6.0|         0.0|                  0.3|        37.8|                null|       null|\n",
            "|       1| 2017-03-01 00:25:01|  2017-03-01 00:31:36|              1|          1.4|         1|                 N|         239|         262|           1|        7.5|  0.5|    0.5|      1.75|         0.0|                  0.3|       10.55|                null|       null|\n",
            "|       1| 2017-03-01 00:43:48|  2017-03-01 00:44:17|              1|          0.0|         1|                 N|         145|         145|           2|        2.5|  0.5|    0.5|       0.0|         0.0|                  0.3|         3.8|                null|       null|\n",
            "|       1| 2017-03-01 00:47:17|  2017-03-01 00:47:33|              1|          0.0|         1|                 N|         145|         145|           2|        2.5|  0.5|    0.5|       0.0|         0.0|                  0.3|         3.8|                null|       null|\n",
            "|       1| 2017-03-01 00:13:37|  2017-03-01 00:13:46|              1|          0.0|         1|                 N|         145|         145|           2|        2.5|  0.5|    0.5|       0.0|         0.0|                  0.3|         3.8|                null|       null|\n",
            "|       1| 2017-03-01 00:14:40|  2017-03-01 00:14:46|              1|          0.0|         1|                 N|         145|         145|           2|        2.5|  0.5|    0.5|       0.0|         0.0|                  0.3|         3.8|                null|       null|\n",
            "|       1| 2017-03-01 00:22:31|  2017-03-01 00:22:41|              1|          0.0|         1|                 N|         145|         145|           2|        2.5|  0.5|    0.5|       0.0|         0.0|                  0.3|         3.8|                null|       null|\n",
            "|       1| 2017-03-01 00:52:49|  2017-03-01 00:56:05|              1|          0.0|         1|                 N|         145|         145|           2|        4.0|  0.5|    0.5|       0.0|         0.0|                  0.3|         5.3|                null|       null|\n",
            "|       1| 2017-03-01 00:56:18|  2017-03-01 00:56:32|              1|          0.0|         1|                 N|         145|         145|           2|        2.5|  0.5|    0.5|       0.0|         0.0|                  0.3|         3.8|                null|       null|\n",
            "|       1| 2017-03-01 00:01:17|  2017-03-01 00:03:55|              1|          0.0|         1|                 N|          82|          82|           3|        3.0|  0.5|    0.5|       0.0|         0.0|                  0.3|         4.3|                null|       null|\n",
            "|       1| 2017-03-01 00:40:20|  2017-03-01 00:49:02|              1|          1.9|         1|                 N|          95|          28|           1|        8.5|  0.5|    0.5|      1.96|         0.0|                  0.3|       11.76|                null|       null|\n",
            "|       1| 2017-03-01 00:34:00|  2017-03-01 01:02:27|              1|          6.9|         1|                 N|          48|         223|           1|       25.0|  0.5|    0.5|      5.25|         0.0|                  0.3|       31.55|                null|       null|\n",
            "|       1| 2017-03-01 00:25:51|  2017-03-01 00:28:14|              1|          0.3|         1|                 N|          90|          68|           2|        3.5|  0.5|    0.5|       0.0|         0.0|                  0.3|         4.8|                null|       null|\n",
            "|       1| 2017-03-01 00:17:46|  2017-03-01 00:32:58|              1|          4.2|         1|                 N|         142|          79|           1|       15.0|  0.5|    0.5|       2.2|         0.0|                  0.3|        18.5|                null|       null|\n",
            "|       1| 2017-03-01 00:40:17|  2017-03-01 00:44:22|              1|          1.1|         1|                 N|         170|         162|           1|        5.5|  0.5|    0.5|      1.35|         0.0|                  0.3|        8.15|                null|       null|\n",
            "|       1| 2017-03-01 00:58:43|  2017-03-01 01:10:39|              2|          7.7|         1|                 N|         239|         169|           2|       22.5|  0.5|    0.5|       0.0|         0.0|                  0.3|        23.8|                null|       null|\n",
            "|       1| 2017-03-01 00:13:13|  2017-03-01 00:25:53|              1|          2.2|         1|                 N|         107|          48|           1|       11.0|  0.5|    0.5|      2.45|         0.0|                  0.3|       14.75|                null|       null|\n",
            "|       1| 2017-03-01 00:52:48|  2017-03-01 01:11:51|              1|          6.6|         1|                 N|         229|         231|           1|       21.5|  0.5|    0.5|       5.7|         0.0|                  0.3|        28.5|                null|       null|\n",
            "|       2| 2017-03-01 00:12:19|  2017-03-01 00:21:47|              1|         1.61|         1|                 N|         239|         163|           2|        8.5|  0.5|    0.5|       0.0|         0.0|                  0.3|         9.8|                null|       null|\n",
            "|       2| 2017-03-01 00:30:11|  2017-03-01 00:34:19|              1|         0.57|         1|                 N|         162|         230|           1|        5.0|  0.5|    0.5|      1.89|         0.0|                  0.3|        8.19|                null|       null|\n",
            "+--------+--------------------+---------------------+---------------+-------------+----------+------------------+------------+------------+------------+-----------+-----+-------+----------+------------+---------------------+------------+--------------------+-----------+\n",
            "only showing top 20 rows\n",
            "\n"
          ]
        }
      ]
    },
    {
      "cell_type": "code",
      "source": [
        "nyc_yellow_tripdata_2017_06 = spark.read.parquet(work_folder+\"yellow_tripdata_2017-06.parquet\")"
      ],
      "metadata": {
        "id": "He3tWlKoykwo"
      },
      "execution_count": null,
      "outputs": []
    },
    {
      "cell_type": "code",
      "source": [
        "nyc_yellow_tripdata_2017_06.show()"
      ],
      "metadata": {
        "colab": {
          "base_uri": "https://localhost:8080/"
        },
        "id": "_CpuRDjKy4S5",
        "outputId": "20f72b20-a81c-4866-9e77-44df9e98db1d"
      },
      "execution_count": null,
      "outputs": [
        {
          "output_type": "stream",
          "name": "stdout",
          "text": [
            "+--------+--------------------+---------------------+---------------+-------------+----------+------------------+------------+------------+------------+-----------+-----+-------+----------+------------+---------------------+------------+--------------------+-----------+\n",
            "|VendorID|tpep_pickup_datetime|tpep_dropoff_datetime|passenger_count|trip_distance|RatecodeID|store_and_fwd_flag|PULocationID|DOLocationID|payment_type|fare_amount|extra|mta_tax|tip_amount|tolls_amount|improvement_surcharge|total_amount|congestion_surcharge|airport_fee|\n",
            "+--------+--------------------+---------------------+---------------+-------------+----------+------------------+------------+------------+------------+-----------+-----+-------+----------+------------+---------------------+------------+--------------------+-----------+\n",
            "|       1| 2017-06-01 00:02:36|  2017-06-01 00:10:02|              1|          1.8|         1|                 N|         161|         263|           1|        8.0|  0.5|    0.5|      1.85|         0.0|                  0.3|       11.15|                null|       null|\n",
            "|       1| 2017-06-01 00:14:14|  2017-06-01 00:16:50|              1|          0.8|         1|                 N|         237|         237|           1|        4.5|  0.5|    0.5|      0.75|         0.0|                  0.3|        6.55|                null|       null|\n",
            "|       1| 2017-06-01 00:47:11|  2017-06-01 00:57:47|              1|          1.7|         1|                 N|          48|         233|           1|        8.5|  0.5|    0.5|       1.0|         0.0|                  0.3|        10.8|                null|       null|\n",
            "|       1| 2017-06-01 00:14:38|  2017-06-01 00:19:49|              1|          1.1|         1|                 N|         246|         249|           1|        5.5|  0.5|    0.5|       1.5|         0.0|                  0.3|         8.3|                null|       null|\n",
            "|       1| 2017-06-01 00:03:41|  2017-06-01 00:57:09|              1|         14.8|         1|                 N|         166|          61|           2|       48.5|  0.5|    0.5|       0.0|         0.0|                  0.3|        49.8|                null|       null|\n",
            "|       1| 2017-06-01 00:01:41|  2017-06-01 00:03:03|              1|          0.0|         1|                 N|         264|         145|           2|        3.0|  0.5|    0.5|       0.0|         0.0|                  0.3|         4.3|                null|       null|\n",
            "|       1| 2017-06-01 00:50:22|  2017-06-01 00:51:04|              1|          0.0|         1|                 N|         145|         145|           3|        2.5|  0.5|    0.5|       0.0|         0.0|                  0.3|         3.8|                null|       null|\n",
            "|       1| 2017-06-01 00:52:48|  2017-06-01 00:52:55|              1|          0.0|         1|                 N|         145|         145|           2|        2.5|  0.5|    0.5|       0.0|         0.0|                  0.3|         3.8|                null|       null|\n",
            "|       2| 2017-06-01 00:30:52|  2017-06-01 00:30:56|              1|          0.0|         1|                 N|         193|         193|           1|        2.5|  0.5|    0.5|       0.0|         0.0|                  0.3|         3.8|                null|       null|\n",
            "|       2| 2017-06-01 00:40:42|  2017-06-01 00:42:59|              1|         0.61|         1|                 N|         264|           7|           2|        4.0|  0.5|    0.5|       0.0|         0.0|                  0.3|         5.3|                null|       null|\n",
            "|       1| 2017-06-01 00:01:26|  2017-06-01 00:15:36|              3|          3.0|         1|                 N|         161|         125|           2|       12.0|  0.5|    0.5|       0.0|         0.0|                  0.3|        13.3|                null|       null|\n",
            "|       1| 2017-06-01 00:23:28|  2017-06-01 00:46:22|              1|          5.6|         1|                 N|         114|         238|           1|       19.5|  0.5|    0.5|      4.15|         0.0|                  0.3|       24.95|                null|       null|\n",
            "|       1| 2017-06-01 00:39:27|  2017-06-01 00:45:23|              1|          1.5|         1|                 N|         161|         164|           1|        7.0|  0.5|    0.5|       1.0|         0.0|                  0.3|         9.3|                null|       null|\n",
            "|       1| 2017-06-01 00:48:54|  2017-06-01 00:56:19|              1|          1.2|         1|                 N|         164|          48|           1|        7.0|  0.5|    0.5|      1.25|         0.0|                  0.3|        9.55|                null|       null|\n",
            "|       1| 2017-06-01 00:25:33|  2017-06-01 00:44:24|              1|          3.9|         1|                 N|         142|           7|           1|       15.5|  0.5|    0.5|      3.35|         0.0|                  0.3|       20.15|                null|       null|\n",
            "|       1| 2017-06-01 00:04:28|  2017-06-01 00:09:49|              1|          0.5|         1|                 N|         162|         229|           2|        5.5|  0.5|    0.5|       0.0|         0.0|                  0.3|         6.8|                null|       null|\n",
            "|       1| 2017-06-01 00:23:07|  2017-06-01 00:27:49|              1|          1.2|         1|                 N|         239|         151|           2|        6.5|  0.5|    0.5|       0.0|         0.0|                  0.3|         7.8|                null|       null|\n",
            "|       2| 2017-06-01 00:24:38|  2017-06-01 00:57:41|              1|        18.79|         2|                 N|         132|          75|           1|       52.0|  0.0|    0.5|       7.5|        5.76|                  0.3|       66.06|                null|       null|\n",
            "|       1| 2017-06-01 00:09:53|  2017-06-01 00:29:13|              1|         11.2|         1|                 N|          87|         168|           3|       31.5|  0.5|    0.5|       0.0|         0.0|                  0.3|        32.8|                null|       null|\n",
            "|       1| 2017-06-01 00:18:24|  2017-06-01 00:38:23|              4|          8.0|         1|                 N|          48|         244|           1|       24.5|  0.5|    0.5|      6.45|         0.0|                  0.3|       32.25|                null|       null|\n",
            "+--------+--------------------+---------------------+---------------+-------------+----------+------------------+------------+------------+------------+-----------+-----+-------+----------+------------+---------------------+------------+--------------------+-----------+\n",
            "only showing top 20 rows\n",
            "\n"
          ]
        }
      ]
    },
    {
      "cell_type": "code",
      "source": [
        "nyc_yellow_tripdata_2017_11 = spark.read.parquet(work_folder+\"yellow_tripdata_2017-11.parquet\")"
      ],
      "metadata": {
        "id": "pDjw1OJDy-eQ"
      },
      "execution_count": null,
      "outputs": []
    },
    {
      "cell_type": "code",
      "source": [
        "nyc_yellow_tripdata_2017_11.show()"
      ],
      "metadata": {
        "colab": {
          "base_uri": "https://localhost:8080/"
        },
        "id": "IZWMBdcwzDin",
        "outputId": "e90023a5-c8b5-46b7-9985-494626d99174"
      },
      "execution_count": null,
      "outputs": [
        {
          "output_type": "stream",
          "name": "stdout",
          "text": [
            "+--------+--------------------+---------------------+---------------+-------------+----------+------------------+------------+------------+------------+-----------+-----+-------+----------+------------+---------------------+------------+--------------------+-----------+\n",
            "|VendorID|tpep_pickup_datetime|tpep_dropoff_datetime|passenger_count|trip_distance|RatecodeID|store_and_fwd_flag|PULocationID|DOLocationID|payment_type|fare_amount|extra|mta_tax|tip_amount|tolls_amount|improvement_surcharge|total_amount|congestion_surcharge|airport_fee|\n",
            "+--------+--------------------+---------------------+---------------+-------------+----------+------------------+------------+------------+------------+-----------+-----+-------+----------+------------+---------------------+------------+--------------------+-----------+\n",
            "|       1| 2017-11-01 00:01:48|  2017-11-01 00:03:47|              1|          0.4|         1|                 N|         151|         151|           2|        3.5|  0.5|    0.5|       0.0|         0.0|                  0.3|         4.8|                null|       null|\n",
            "|       1| 2017-11-01 00:18:22|  2017-11-01 00:40:32|              1|          4.8|         1|                 N|         142|         144|           1|       17.5|  0.5|    0.5|       2.0|         0.0|                  0.3|        20.8|                null|       null|\n",
            "|       1| 2017-11-01 00:01:58|  2017-11-01 00:15:57|              1|          3.7|         1|                 N|         151|         140|           1|       14.0|  0.5|    0.5|      3.05|         0.0|                  0.3|       18.35|                null|       null|\n",
            "|       1| 2017-11-01 00:18:53|  2017-11-01 00:25:23|              1|          1.9|         1|                 N|         140|         233|           1|        7.5|  0.5|    0.5|      1.32|         0.0|                  0.3|       10.12|                null|       null|\n",
            "|       1| 2017-11-01 00:28:56|  2017-11-01 00:38:22|              1|          2.0|         1|                 N|         229|          50|           1|        9.0|  0.5|    0.5|       2.0|         0.0|                  0.3|        12.3|                null|       null|\n",
            "|       1| 2017-11-01 00:40:35|  2017-11-01 00:46:34|              1|          1.7|         1|                 N|          50|          68|           1|        7.0|  0.5|    0.5|      2.45|         0.0|                  0.3|       10.75|                null|       null|\n",
            "|       1| 2017-11-01 00:33:27|  2017-11-01 00:33:34|              1|          0.0|         1|                 N|         264|         264|           2|        2.5|  0.5|    0.5|       0.0|         0.0|                  0.3|         3.8|                null|       null|\n",
            "|       1| 2017-11-01 00:34:16|  2017-11-01 00:34:25|              1|          0.0|         1|                 N|         264|         264|           2|        2.5|  0.5|    0.5|       0.0|         0.0|                  0.3|         3.8|                null|       null|\n",
            "|       1| 2017-11-01 00:35:06|  2017-11-01 00:35:21|              1|          0.0|         1|                 N|         264|         264|           2|        2.5|  0.5|    0.5|       0.0|         0.0|                  0.3|         3.8|                null|       null|\n",
            "|       1| 2017-11-01 00:11:55|  2017-11-01 00:12:40|              1|          0.0|         1|                 N|         145|         145|           2|        2.5|  0.5|    0.5|       0.0|         0.0|                  0.3|         3.8|                null|       null|\n",
            "|       1| 2017-11-01 00:15:52|  2017-11-01 00:16:00|              1|          0.0|         1|                 N|         145|         145|           2|        2.5|  0.5|    0.5|       0.0|         0.0|                  0.3|         3.8|                null|       null|\n",
            "|       1| 2017-11-01 00:16:58|  2017-11-01 00:17:09|              1|          0.0|         1|                 N|         145|         145|           2|        2.5|  0.5|    0.5|       0.0|         0.0|                  0.3|         3.8|                null|       null|\n",
            "|       1| 2017-11-01 00:33:12|  2017-11-01 00:34:10|              1|          0.0|         1|                 N|         145|         145|           2|        2.5|  0.5|    0.5|       0.0|         0.0|                  0.3|         3.8|                null|       null|\n",
            "|       1| 2017-11-01 00:34:28|  2017-11-01 00:34:38|              1|          0.0|         1|                 N|         145|         145|           2|        2.5|  0.5|    0.5|       0.0|         0.0|                  0.3|         3.8|                null|       null|\n",
            "|       2| 2017-11-01 00:28:37|  2017-11-01 00:29:38|              1|          0.0|         1|                 N|         193|         193|           2|        2.5|  0.5|    0.5|       0.0|         0.0|                  0.3|         3.8|                null|       null|\n",
            "|       2| 2017-11-01 00:30:02|  2017-11-01 00:30:41|              1|          0.0|         1|                 N|         193|         193|           2|        2.5|  0.5|    0.5|       0.0|         0.0|                  0.3|         3.8|                null|       null|\n",
            "|       2| 2017-11-01 00:31:00|  2017-11-01 00:31:03|              1|          0.0|         1|                 N|         193|         193|           2|        2.5|  0.5|    0.5|       0.0|         0.0|                  0.3|         3.8|                null|       null|\n",
            "|       1| 2017-11-01 00:03:22|  2017-11-01 00:06:58|              1|          1.0|         1|                 N|         246|          48|           2|        5.0|  0.5|    0.5|       0.0|         0.0|                  0.3|         6.3|                null|       null|\n",
            "|       1| 2017-11-01 00:19:29|  2017-11-01 00:23:37|              1|          0.8|         1|                 N|         163|         237|           1|        5.0|  0.5|    0.5|      1.85|         0.0|                  0.3|        8.15|                null|       null|\n",
            "|       1| 2017-11-01 00:01:54|  2017-11-01 00:33:09|              1|          5.4|         1|                 N|         246|          66|           1|       22.5|  0.5|    0.5|      4.75|         0.0|                  0.3|       28.55|                null|       null|\n",
            "+--------+--------------------+---------------------+---------------+-------------+----------+------------------+------------+------------+------------+-----------+-----+-------+----------+------------+---------------------+------------+--------------------+-----------+\n",
            "only showing top 20 rows\n",
            "\n"
          ]
        }
      ]
    },
    {
      "cell_type": "markdown",
      "source": [
        "## Clean dates before merging datasets"
      ],
      "metadata": {
        "id": "I1Fox-ZbUmWr"
      }
    },
    {
      "cell_type": "markdown",
      "source": [
        "### March 2017"
      ],
      "metadata": {
        "id": "VzUW0u_7ZGeT"
      }
    },
    {
      "cell_type": "markdown",
      "source": [
        "Before we merge the three datasets together (March, June and November), we are going to make sure that the pick-up and drop-off dates are really in the months that they should be"
      ],
      "metadata": {
        "id": "jUWGj4z5X87v"
      }
    },
    {
      "cell_type": "code",
      "source": [
        "tpep_datetime_min = datetime.datetime(2017, 3, 1)\n",
        "tpep_datetime_max = datetime.datetime(2017, 4, 1)"
      ],
      "metadata": {
        "id": "9PvsLFhCVfwt"
      },
      "execution_count": null,
      "outputs": []
    },
    {
      "cell_type": "markdown",
      "source": [
        "For March, the drop-off dates seem to contain strange values (at night, during the first day of April). We focus on analyzing those cases next."
      ],
      "metadata": {
        "id": "jsD-KWwpYJqN"
      }
    },
    {
      "cell_type": "code",
      "source": [
        "nyc_yellow_tripdata_2017_03.select(F.min(\"tpep_pickup_datetime\"), F.max(\"tpep_pickup_datetime\"),\n",
        "                                   F.min(\"tpep_dropoff_datetime\"), F.max(\"tpep_dropoff_datetime\")).show()"
      ],
      "metadata": {
        "colab": {
          "base_uri": "https://localhost:8080/"
        },
        "id": "cJpgtgIhUooi",
        "outputId": "6c1763e4-cd98-4b55-83d7-d7d78b438b7c"
      },
      "execution_count": null,
      "outputs": [
        {
          "output_type": "stream",
          "name": "stdout",
          "text": [
            "+-------------------------+-------------------------+--------------------------+--------------------------+\n",
            "|min(tpep_pickup_datetime)|max(tpep_pickup_datetime)|min(tpep_dropoff_datetime)|max(tpep_dropoff_datetime)|\n",
            "+-------------------------+-------------------------+--------------------------+--------------------------+\n",
            "|      2017-03-01 00:00:00|      2017-03-31 23:59:59|       2017-03-01 00:00:00|       2017-04-01 23:45:44|\n",
            "+-------------------------+-------------------------+--------------------------+--------------------------+\n",
            "\n"
          ]
        }
      ]
    },
    {
      "cell_type": "markdown",
      "source": [
        "There are some cases in which some trips have lasted for almost a whole day according to these variables. If we look at the trip distance, this does not make sense. Probably, the date columns have just been inverted and shifted one day. We next count the number of records to understand if this is happening too often."
      ],
      "metadata": {
        "id": "uQ8pN9pmYbsc"
      }
    },
    {
      "cell_type": "code",
      "source": [
        "wrong_drop_off_times = nyc_yellow_tripdata_2017_03.filter(F.col(\"tpep_dropoff_datetime\") >= tpep_datetime_max).sort(F.desc(\"tpep_dropoff_datetime\"))\n",
        "wrong_drop_off_times.show()"
      ],
      "metadata": {
        "colab": {
          "base_uri": "https://localhost:8080/"
        },
        "id": "vIT9KYA4VcTw",
        "outputId": "caa0257a-fbd8-4465-8be4-e25646da1d43"
      },
      "execution_count": null,
      "outputs": [
        {
          "output_type": "stream",
          "name": "stdout",
          "text": [
            "+--------+--------------------+---------------------+---------------+-------------+----------+------------------+------------+------------+------------+-----------+-----+-------+----------+------------+---------------------+------------+--------------------+-----------+\n",
            "|VendorID|tpep_pickup_datetime|tpep_dropoff_datetime|passenger_count|trip_distance|RatecodeID|store_and_fwd_flag|PULocationID|DOLocationID|payment_type|fare_amount|extra|mta_tax|tip_amount|tolls_amount|improvement_surcharge|total_amount|congestion_surcharge|airport_fee|\n",
            "+--------+--------------------+---------------------+---------------+-------------+----------+------------------+------------+------------+------------+-----------+-----+-------+----------+------------+---------------------+------------+--------------------+-----------+\n",
            "|       2| 2017-03-31 23:57:03|  2017-04-01 23:45:44|              1|          6.5|         1|                 N|         233|          82|           2|       28.0|  0.5|    0.5|       0.0|         0.0|                  0.3|        29.3|                null|       null|\n",
            "|       2| 2017-03-31 23:45:41|  2017-04-01 23:44:40|              1|         0.79|         1|                 N|         230|         186|           2|        5.5|  0.5|    0.5|       0.0|         0.0|                  0.3|         6.8|                null|       null|\n",
            "|       2| 2017-03-31 23:57:55|  2017-04-01 23:43:31|              6|          3.7|         1|                 N|         161|         144|           1|       17.5|  0.5|    0.5|      1.88|         0.0|                  0.3|       20.68|                null|       null|\n",
            "|       2| 2017-03-31 23:52:53|  2017-04-01 23:40:54|              1|         0.47|         1|                 N|         255|         256|           1|        4.0|  0.5|    0.5|      1.06|         0.0|                  0.3|        6.36|                null|       null|\n",
            "|       2| 2017-03-31 23:41:54|  2017-04-01 23:39:15|              1|         2.86|         1|                 N|         148|         255|           1|       13.5|  0.5|    0.5|      1.48|         0.0|                  0.3|       16.28|                null|       null|\n",
            "|       2| 2017-03-31 23:42:31|  2017-04-01 23:39:13|              1|          1.5|         1|                 N|          90|         100|           1|        8.0|  0.5|    0.5|      1.86|         0.0|                  0.3|       11.16|                null|       null|\n",
            "|       2| 2017-03-31 23:38:45|  2017-04-01 23:36:40|              1|         6.03|         1|                 N|         148|         163|           2|       21.0|  0.5|    0.5|       0.0|         0.0|                  0.3|        22.3|                null|       null|\n",
            "|       2| 2017-03-31 23:39:20|  2017-04-01 23:35:09|              2|         4.02|         1|                 N|         264|         264|           2|       15.5|  0.5|    0.5|       0.0|         0.0|                  0.3|        16.8|                null|       null|\n",
            "|       2| 2017-03-31 23:36:05|  2017-04-01 23:32:34|              1|         2.39|         1|                 N|         236|         229|           1|       11.5|  0.5|    0.5|      1.28|         0.0|                  0.3|       14.08|                null|       null|\n",
            "|       2| 2017-03-31 23:27:43|  2017-04-01 23:26:30|              5|         1.29|         1|                 N|         186|         161|           2|        6.5|  0.5|    0.5|       0.0|         0.0|                  0.3|         7.8|                null|       null|\n",
            "|       2| 2017-03-31 23:35:02|  2017-04-01 23:24:28|              1|         0.74|         1|                 N|         107|          79|           1|        6.0|  0.5|    0.5|       0.0|         0.0|                  0.3|         7.3|                null|       null|\n",
            "|       2| 2017-03-31 23:26:26|  2017-04-01 23:24:26|              1|         1.26|         1|                 N|         211|          79|           1|       10.0|  0.5|    0.5|      2.26|         0.0|                  0.3|       13.56|                null|       null|\n",
            "|       2| 2017-03-31 23:32:17|  2017-04-01 23:22:45|              2|         0.83|         1|                 N|         170|         230|           2|        7.0|  0.5|    0.5|       0.0|         0.0|                  0.3|         8.3|                null|       null|\n",
            "|       2| 2017-03-31 23:48:17|  2017-04-01 23:20:54|              1|         8.76|         1|                 N|         230|          40|           2|       29.0|  0.5|    0.5|       0.0|         0.0|                  0.3|        30.3|                null|       null|\n",
            "|       2| 2017-03-31 23:33:05|  2017-04-01 23:20:27|              1|         3.28|         1|                 N|          72|         177|           1|       13.5|  0.5|    0.5|       0.0|         0.0|                  0.3|       16.75|                null|       null|\n",
            "|       2| 2017-03-31 23:44:20|  2017-04-01 23:19:05|              1|         1.21|         1|                 N|         249|         144|           2|        7.5|  0.5|    0.5|       0.0|         0.0|                  0.3|         8.8|                null|       null|\n",
            "|       2| 2017-03-31 23:21:43|  2017-04-01 23:18:44|              6|          1.0|         1|                 N|          79|         137|           1|        6.5|  0.5|    0.5|      1.56|         0.0|                  0.3|        9.36|                null|       null|\n",
            "|       2| 2017-03-31 23:18:14|  2017-04-01 23:14:58|              5|         1.99|         1|                 N|         233|          50|           1|       12.5|  0.5|    0.5|      3.45|         0.0|                  0.3|       17.25|                null|       null|\n",
            "|       2| 2017-03-31 23:14:05|  2017-04-01 23:11:37|              6|         0.84|         1|                 N|         170|         100|           1|        7.0|  0.5|    0.5|       0.0|         0.0|                  0.3|         8.3|                null|       null|\n",
            "|       2| 2017-03-31 23:22:10|  2017-04-01 23:10:54|              1|         7.23|         1|                 N|         234|         129|           1|       25.5|  0.5|    0.5|      9.38|         0.0|                  0.3|       36.18|                null|       null|\n",
            "+--------+--------------------+---------------------+---------------+-------------+----------+------------------+------------+------------+------------+-----------+-----+-------+----------+------------+---------------------+------------+--------------------+-----------+\n",
            "only showing top 20 rows\n",
            "\n"
          ]
        }
      ]
    },
    {
      "cell_type": "markdown",
      "source": [
        "There are not many records with this problem, so we can directly drop these rows before merging the datasets."
      ],
      "metadata": {
        "id": "UT0SvIo6YvmU"
      }
    },
    {
      "cell_type": "code",
      "source": [
        "wrong_drop_off_times.count()"
      ],
      "metadata": {
        "colab": {
          "base_uri": "https://localhost:8080/"
        },
        "id": "hi49UQ1ZV9xt",
        "outputId": "e79eac88-8460-4fd5-8ded-389496f1ad3d"
      },
      "execution_count": null,
      "outputs": [
        {
          "output_type": "execute_result",
          "data": {
            "text/plain": [
              "5273"
            ]
          },
          "metadata": {},
          "execution_count": 19
        }
      ]
    },
    {
      "cell_type": "code",
      "source": [
        "print(nyc_yellow_tripdata_2017_03.count())\n",
        "nyc_yellow_tripdata_2017_03 = nyc_yellow_tripdata_2017_03.filter(F.col(\"tpep_dropoff_datetime\") < tpep_datetime_max)\n",
        "print(nyc_yellow_tripdata_2017_03.count())"
      ],
      "metadata": {
        "colab": {
          "base_uri": "https://localhost:8080/"
        },
        "id": "tzqJFSFcY1oP",
        "outputId": "042e608c-d1e6-4a2e-8f70-62f7ccfdeb87"
      },
      "execution_count": null,
      "outputs": [
        {
          "output_type": "stream",
          "name": "stdout",
          "text": [
            "10295441\n",
            "10290168\n"
          ]
        }
      ]
    },
    {
      "cell_type": "markdown",
      "source": [
        "### June 2017"
      ],
      "metadata": {
        "id": "s--npP9gZJZ8"
      }
    },
    {
      "cell_type": "code",
      "source": [
        "tpep_datetime_min = datetime.datetime(2017, 6, 1)\n",
        "tpep_datetime_max = datetime.datetime(2017, 7, 1)"
      ],
      "metadata": {
        "id": "UFF3AdVmW1ME"
      },
      "execution_count": null,
      "outputs": []
    },
    {
      "cell_type": "code",
      "source": [
        "nyc_yellow_tripdata_2017_06.select(F.min(\"tpep_pickup_datetime\"), F.max(\"tpep_pickup_datetime\"),\n",
        "                                   F.min(\"tpep_dropoff_datetime\"), F.max(\"tpep_dropoff_datetime\")).show()"
      ],
      "metadata": {
        "colab": {
          "base_uri": "https://localhost:8080/"
        },
        "id": "Nb6GezNCW4rw",
        "outputId": "09218ac6-d9f9-49a0-8337-2bbaac830bbc"
      },
      "execution_count": null,
      "outputs": [
        {
          "output_type": "stream",
          "name": "stdout",
          "text": [
            "+-------------------------+-------------------------+--------------------------+--------------------------+\n",
            "|min(tpep_pickup_datetime)|max(tpep_pickup_datetime)|min(tpep_dropoff_datetime)|max(tpep_dropoff_datetime)|\n",
            "+-------------------------+-------------------------+--------------------------+--------------------------+\n",
            "|      2017-06-01 00:00:00|      2017-06-30 23:59:58|       2017-06-01 00:00:00|       2017-07-01 23:53:05|\n",
            "+-------------------------+-------------------------+--------------------------+--------------------------+\n",
            "\n"
          ]
        }
      ]
    },
    {
      "cell_type": "markdown",
      "source": [
        "We can see the same problem ocurring in June, with trips lasting a whole day according to these variables. "
      ],
      "metadata": {
        "id": "u-3XNKtFZOlE"
      }
    },
    {
      "cell_type": "code",
      "source": [
        "wrong_drop_off_times = nyc_yellow_tripdata_2017_06.filter(F.col(\"tpep_dropoff_datetime\") >= tpep_datetime_max).sort(F.desc(\"tpep_dropoff_datetime\"))\n",
        "wrong_drop_off_times.show()"
      ],
      "metadata": {
        "colab": {
          "base_uri": "https://localhost:8080/"
        },
        "id": "xq8LOY3SW4oz",
        "outputId": "4583f876-bd0c-432c-800c-aa24638e3bf7"
      },
      "execution_count": null,
      "outputs": [
        {
          "output_type": "stream",
          "name": "stdout",
          "text": [
            "+--------+--------------------+---------------------+---------------+-------------+----------+------------------+------------+------------+------------+-----------+-----+-------+----------+------------+---------------------+------------+--------------------+-----------+\n",
            "|VendorID|tpep_pickup_datetime|tpep_dropoff_datetime|passenger_count|trip_distance|RatecodeID|store_and_fwd_flag|PULocationID|DOLocationID|payment_type|fare_amount|extra|mta_tax|tip_amount|tolls_amount|improvement_surcharge|total_amount|congestion_surcharge|airport_fee|\n",
            "+--------+--------------------+---------------------+---------------+-------------+----------+------------------+------------+------------+------------+-----------+-----+-------+----------+------------+---------------------+------------+--------------------+-----------+\n",
            "|       2| 2017-06-30 23:57:37|  2017-07-01 23:53:05|              1|         3.99|         1|                 N|          79|         262|           1|       18.0|  0.5|    0.5|       0.0|         0.0|                  0.3|        19.3|                null|       null|\n",
            "|       2| 2017-06-30 23:56:04|  2017-07-01 23:49:51|              6|          0.7|         1|                 N|         236|         237|           1|        4.5|  0.5|    0.5|      1.16|         0.0|                  0.3|        6.96|                null|       null|\n",
            "|       2| 2017-06-30 23:53:23|  2017-07-01 23:48:24|              1|         1.24|         1|                 N|         125|          68|           1|        6.5|  0.5|    0.5|      1.56|         0.0|                  0.3|        9.36|                null|       null|\n",
            "|       2| 2017-06-30 23:51:20|  2017-07-01 23:46:36|              2|         1.86|         1|                 N|         211|         107|           1|        9.0|  0.5|    0.5|      2.06|         0.0|                  0.3|       12.36|                null|       null|\n",
            "|       2| 2017-06-30 23:49:46|  2017-07-01 23:45:06|              1|         4.74|         1|                 N|          13|         257|           1|       17.5|  0.5|    0.5|      4.91|        5.76|                  0.3|       29.47|                null|       null|\n",
            "|       2| 2017-06-30 23:51:48|  2017-07-01 23:44:27|              1|          0.4|         1|                 N|         225|         225|           1|        3.5|  0.5|    0.5|      0.24|         0.0|                  0.3|        5.04|                null|       null|\n",
            "|       2| 2017-06-30 23:59:31|  2017-07-01 23:42:39|              1|         1.42|         1|                 N|         144|          79|           1|        8.5|  0.5|    0.5|      1.47|         0.0|                  0.3|       11.27|                null|       null|\n",
            "|       2| 2017-06-30 23:45:08|  2017-07-01 23:37:45|              1|         0.69|         1|                 N|          61|         225|           2|        4.5|  0.5|    0.5|       0.0|         0.0|                  0.3|         5.8|                null|       null|\n",
            "|       2| 2017-06-30 23:45:07|  2017-07-01 23:36:05|              5|         3.17|         1|                 N|         236|         186|           2|       19.0|  0.5|    0.5|       0.0|         0.0|                  0.3|        20.3|                null|       null|\n",
            "|       2| 2017-06-30 23:37:35|  2017-07-01 23:35:42|              1|         1.62|         1|                 N|         164|         162|           1|        7.5|  0.5|    0.5|      0.88|         0.0|                  0.3|        9.68|                null|       null|\n",
            "|       2| 2017-06-30 23:36:54|  2017-07-01 23:29:45|              1|         5.95|         1|                 N|          48|         255|           2|       26.5|  0.5|    0.5|       0.0|         0.0|                  0.3|        27.8|                null|       null|\n",
            "|       2| 2017-06-30 23:46:55|  2017-07-01 23:29:31|              1|         2.76|         1|                 N|         170|         158|           1|       14.0|  0.5|    0.5|       2.3|         0.0|                  0.3|        17.6|                null|       null|\n",
            "|       2| 2017-06-30 23:56:56|  2017-07-01 23:29:14|              1|         7.18|         1|                 N|         186|         225|           2|       26.5|  0.5|    0.5|       0.0|         0.0|                  0.3|        27.8|                null|       null|\n",
            "|       2| 2017-06-30 23:29:32|  2017-07-01 23:28:32|              5|         3.05|         1|                 N|         148|         164|           1|       12.0|  0.5|    0.5|       2.0|         0.0|                  0.3|        15.3|                null|       null|\n",
            "|       2| 2017-06-30 23:42:23|  2017-07-01 23:27:15|              1|         2.48|         1|                 N|         139|         205|           2|       16.0|  0.5|    0.5|       0.0|         0.0|                  0.3|        17.3|                null|       null|\n",
            "|       2| 2017-06-30 23:25:25|  2017-07-01 23:22:21|              1|         2.55|         1|                 N|         114|         246|           2|       12.0|  0.5|    0.5|       0.0|         0.0|                  0.3|        13.3|                null|       null|\n",
            "|       2| 2017-06-30 23:24:57|  2017-07-01 23:21:39|              1|         2.14|         1|                 N|         164|          50|           2|       11.0|  0.5|    0.5|       0.0|         0.0|                  0.3|        12.3|                null|       null|\n",
            "|       2| 2017-06-30 23:21:34|  2017-07-01 23:17:07|              1|         8.11|         1|                 N|         161|         102|           2|       31.5|  0.5|    0.5|       0.0|         0.0|                  0.3|        32.8|                null|       null|\n",
            "|       2| 2017-06-30 23:31:44|  2017-07-01 23:12:56|              6|         2.59|         1|                 N|         148|         186|           2|       18.0|  0.5|    0.5|       0.0|         0.0|                  0.3|        19.3|                null|       null|\n",
            "|       2| 2017-06-30 23:46:12|  2017-07-01 23:12:31|              1|        10.06|         1|                 N|          48|         102|           1|       31.0|  0.5|    0.5|      7.61|        5.76|                  0.3|       45.67|                null|       null|\n",
            "+--------+--------------------+---------------------+---------------+-------------+----------+------------------+------------+------------+------------+-----------+-----+-------+----------+------------+---------------------+------------+--------------------+-----------+\n",
            "only showing top 20 rows\n",
            "\n"
          ]
        }
      ]
    },
    {
      "cell_type": "markdown",
      "source": [
        "Since there are just a few cases, we drop them from the dataset"
      ],
      "metadata": {
        "id": "aD8qvVl6ZZ68"
      }
    },
    {
      "cell_type": "code",
      "source": [
        "wrong_drop_off_times.count()"
      ],
      "metadata": {
        "colab": {
          "base_uri": "https://localhost:8080/"
        },
        "id": "v0vdl0KfXLmV",
        "outputId": "62dad697-6b0a-486b-9655-62a2f9e81a6d"
      },
      "execution_count": null,
      "outputs": [
        {
          "output_type": "execute_result",
          "data": {
            "text/plain": [
              "3713"
            ]
          },
          "metadata": {},
          "execution_count": 24
        }
      ]
    },
    {
      "cell_type": "code",
      "source": [
        "print(nyc_yellow_tripdata_2017_06.count())\n",
        "nyc_yellow_tripdata_2017_06 = nyc_yellow_tripdata_2017_06.filter(F.col(\"tpep_dropoff_datetime\") < tpep_datetime_max)\n",
        "print(nyc_yellow_tripdata_2017_06.count())"
      ],
      "metadata": {
        "colab": {
          "base_uri": "https://localhost:8080/"
        },
        "id": "sadyvhCCZcoM",
        "outputId": "2837b6fb-e6e5-4827-9edd-8f1481dc9244"
      },
      "execution_count": null,
      "outputs": [
        {
          "output_type": "stream",
          "name": "stdout",
          "text": [
            "9656993\n",
            "9653280\n"
          ]
        }
      ]
    },
    {
      "cell_type": "markdown",
      "source": [
        "### November 2017"
      ],
      "metadata": {
        "id": "-kgpIdz8ZhRP"
      }
    },
    {
      "cell_type": "code",
      "source": [
        "tpep_datetime_min = datetime.datetime(2017, 11, 1)\n",
        "tpep_datetime_max = datetime.datetime(2017, 12, 1)"
      ],
      "metadata": {
        "id": "6I0jQUslW4kw"
      },
      "execution_count": null,
      "outputs": []
    },
    {
      "cell_type": "markdown",
      "source": [
        "In this case, there are dates that are clearly wrong in the dataset (e.g., 2001, 2041)."
      ],
      "metadata": {
        "id": "408jub63ZlI0"
      }
    },
    {
      "cell_type": "code",
      "source": [
        "nyc_yellow_tripdata_2017_11.select(F.min(\"tpep_pickup_datetime\"), F.max(\"tpep_pickup_datetime\"),\n",
        "                                   F.min(\"tpep_dropoff_datetime\"), F.max(\"tpep_dropoff_datetime\")).show()"
      ],
      "metadata": {
        "colab": {
          "base_uri": "https://localhost:8080/"
        },
        "id": "r2Rlc0F-W4ic",
        "outputId": "955ab0b3-b537-4e72-f9e3-8632afa2e0a4"
      },
      "execution_count": null,
      "outputs": [
        {
          "output_type": "stream",
          "name": "stdout",
          "text": [
            "+-------------------------+-------------------------+--------------------------+--------------------------+\n",
            "|min(tpep_pickup_datetime)|max(tpep_pickup_datetime)|min(tpep_dropoff_datetime)|max(tpep_dropoff_datetime)|\n",
            "+-------------------------+-------------------------+--------------------------+--------------------------+\n",
            "|      2001-01-01 00:04:13|      2041-11-15 02:57:16|       2001-01-01 00:04:51|       2041-11-15 03:12:19|\n",
            "+-------------------------+-------------------------+--------------------------+--------------------------+\n",
            "\n"
          ]
        }
      ]
    },
    {
      "cell_type": "markdown",
      "source": [
        "Since there aren't many of these cases, we just remove them cases before merging the three datasets together:"
      ],
      "metadata": {
        "id": "SW4mLkNrZt_y"
      }
    },
    {
      "cell_type": "code",
      "source": [
        "print(nyc_yellow_tripdata_2017_11.filter(F.col(\"tpep_pickup_datetime\") < tpep_datetime_min).count())\n",
        "print(nyc_yellow_tripdata_2017_11.filter(F.col(\"tpep_dropoff_datetime\") < tpep_datetime_min).count())\n",
        "print(nyc_yellow_tripdata_2017_11.filter(F.col(\"tpep_pickup_datetime\") >= tpep_datetime_max).count())\n",
        "print(nyc_yellow_tripdata_2017_11.filter(F.col(\"tpep_dropoff_datetime\") >= tpep_datetime_max).count())"
      ],
      "metadata": {
        "colab": {
          "base_uri": "https://localhost:8080/"
        },
        "id": "zvJrlNMoXM9k",
        "outputId": "91e72c5c-d78f-4534-e32a-77ef28a92e7f"
      },
      "execution_count": null,
      "outputs": [
        {
          "output_type": "stream",
          "name": "stdout",
          "text": [
            "236\n",
            "104\n",
            "84\n",
            "4048\n"
          ]
        }
      ]
    },
    {
      "cell_type": "code",
      "source": [
        "print(nyc_yellow_tripdata_2017_11.count())\n",
        "nyc_yellow_tripdata_2017_11 = nyc_yellow_tripdata_2017_11.filter(F.col(\"tpep_dropoff_datetime\") >= tpep_datetime_min)\n",
        "nyc_yellow_tripdata_2017_11 = nyc_yellow_tripdata_2017_11.filter(F.col(\"tpep_dropoff_datetime\") < tpep_datetime_max)\n",
        "print(nyc_yellow_tripdata_2017_11.count())"
      ],
      "metadata": {
        "colab": {
          "base_uri": "https://localhost:8080/"
        },
        "id": "mRs8COCOW4as",
        "outputId": "f86dcdf9-2119-4f0d-ab58-ec7b2ca6f334"
      },
      "execution_count": null,
      "outputs": [
        {
          "output_type": "stream",
          "name": "stdout",
          "text": [
            "9284803\n",
            "9280651\n"
          ]
        }
      ]
    },
    {
      "cell_type": "markdown",
      "source": [
        "##Clean dates after merging datasets"
      ],
      "metadata": {
        "id": "tp0kMUG5Z6Dj"
      }
    },
    {
      "cell_type": "code",
      "source": [
        "print(nyc_yellow_tripdata_2017_03.count())\n",
        "print(nyc_yellow_tripdata_2017_06.count())\n",
        "print(nyc_yellow_tripdata_2017_11.count())"
      ],
      "metadata": {
        "colab": {
          "base_uri": "https://localhost:8080/"
        },
        "id": "IFofYWA8Z3As",
        "outputId": "946ebdba-3b2b-422c-e7bb-8a28322373e3"
      },
      "execution_count": null,
      "outputs": [
        {
          "output_type": "stream",
          "name": "stdout",
          "text": [
            "10290168\n",
            "9653280\n",
            "9280651\n"
          ]
        }
      ]
    },
    {
      "cell_type": "markdown",
      "source": [
        "We merge the datasets together:"
      ],
      "metadata": {
        "id": "U22MRf8BZ_zO"
      }
    },
    {
      "cell_type": "code",
      "source": [
        "nyc_yellow_tripdata = nyc_yellow_tripdata_2017_03.union(nyc_yellow_tripdata_2017_06).union(nyc_yellow_tripdata_2017_11)"
      ],
      "metadata": {
        "id": "v0bKAKDQZ9Uj"
      },
      "execution_count": null,
      "outputs": []
    },
    {
      "cell_type": "markdown",
      "source": [
        "We check that the final dates are in the expected ranges:"
      ],
      "metadata": {
        "id": "6pz_KFqDaFg8"
      }
    },
    {
      "cell_type": "code",
      "source": [
        "tpep_datetime_min = datetime.datetime(2017, 3, 1)\n",
        "tpep_datetime_max = datetime.datetime(2017, 12, 1)"
      ],
      "metadata": {
        "id": "ewcUQUgBUuO2"
      },
      "execution_count": null,
      "outputs": []
    },
    {
      "cell_type": "code",
      "source": [
        "nyc_yellow_tripdata.select(F.min(\"tpep_pickup_datetime\"), F.max(\"tpep_pickup_datetime\"),\n",
        "                           F.min(\"tpep_dropoff_datetime\"), F.max(\"tpep_dropoff_datetime\")).show()"
      ],
      "metadata": {
        "colab": {
          "base_uri": "https://localhost:8080/"
        },
        "id": "SCotal-_UuL8",
        "outputId": "d598a7b9-247d-4994-906e-55e5a6a01a62"
      },
      "execution_count": null,
      "outputs": [
        {
          "output_type": "stream",
          "name": "stdout",
          "text": [
            "+-------------------------+-------------------------+--------------------------+--------------------------+\n",
            "|min(tpep_pickup_datetime)|max(tpep_pickup_datetime)|min(tpep_dropoff_datetime)|max(tpep_dropoff_datetime)|\n",
            "+-------------------------+-------------------------+--------------------------+--------------------------+\n",
            "|      2017-03-01 00:00:00|      2017-11-30 23:59:05|       2017-03-01 00:00:00|       2017-11-30 23:59:59|\n",
            "+-------------------------+-------------------------+--------------------------+--------------------------+\n",
            "\n"
          ]
        }
      ]
    },
    {
      "cell_type": "markdown",
      "source": [
        "We now check if any pick-off dates happen in time before the corresponding pick-up date, or if the two dates are exactly the same."
      ],
      "metadata": {
        "id": "q48HLy1Kbu4I"
      }
    },
    {
      "cell_type": "code",
      "source": [
        "print(nyc_yellow_tripdata.filter(F.col(\"tpep_pickup_datetime\") > F.col(\"tpep_dropoff_datetime\")).count())\n",
        "print(nyc_yellow_tripdata.filter(F.col(\"tpep_pickup_datetime\") == F.col(\"tpep_dropoff_datetime\")).count())"
      ],
      "metadata": {
        "colab": {
          "base_uri": "https://localhost:8080/"
        },
        "id": "rXQiUfppbSDF",
        "outputId": "5663e29e-c25d-44ca-f3a0-b3eda73ead92"
      },
      "execution_count": null,
      "outputs": [
        {
          "output_type": "stream",
          "name": "stdout",
          "text": [
            "1419\n",
            "28051\n"
          ]
        }
      ]
    },
    {
      "cell_type": "markdown",
      "source": [
        "Since these cases do not make any sense, and they do not happen too often, so we remove them from the dataset."
      ],
      "metadata": {
        "id": "UGlTfLi2cApr"
      }
    },
    {
      "cell_type": "code",
      "source": [
        "print(nyc_yellow_tripdata.count())\n",
        "nyc_yellow_tripdata = nyc_yellow_tripdata.filter(F.col(\"tpep_pickup_datetime\") < F.col(\"tpep_dropoff_datetime\"))\n",
        "print(nyc_yellow_tripdata.count())"
      ],
      "metadata": {
        "colab": {
          "base_uri": "https://localhost:8080/"
        },
        "id": "7EzciziybSA7",
        "outputId": "bd89397f-d517-426c-c4e0-7e97bffec998"
      },
      "execution_count": null,
      "outputs": [
        {
          "output_type": "stream",
          "name": "stdout",
          "text": [
            "29224099\n",
            "29194629\n"
          ]
        }
      ]
    },
    {
      "cell_type": "markdown",
      "source": [
        "# Feature formatting & engineering"
      ],
      "metadata": {
        "id": "_auZYmTY0FYL"
      }
    },
    {
      "cell_type": "markdown",
      "source": [
        "We have a look at the schema to understand the type of variables that we have.\n",
        "Two of them are timestamps (tpep_pickup_datetime, tpep_dropoff_datetime), and another one is of type string (store_and_fwd_flag). The other variables are numbers."
      ],
      "metadata": {
        "id": "_B8fOxZzeHWJ"
      }
    },
    {
      "cell_type": "code",
      "source": [
        "nyc_yellow_tripdata.printSchema()"
      ],
      "metadata": {
        "colab": {
          "base_uri": "https://localhost:8080/"
        },
        "id": "GdSmXR7n0VoE",
        "outputId": "cfc4df0d-45aa-4759-db47-5a0da0b2c55a"
      },
      "execution_count": null,
      "outputs": [
        {
          "output_type": "stream",
          "name": "stdout",
          "text": [
            "root\n",
            " |-- VendorID: long (nullable = true)\n",
            " |-- tpep_pickup_datetime: timestamp (nullable = true)\n",
            " |-- tpep_dropoff_datetime: timestamp (nullable = true)\n",
            " |-- passenger_count: long (nullable = true)\n",
            " |-- trip_distance: double (nullable = true)\n",
            " |-- RatecodeID: long (nullable = true)\n",
            " |-- store_and_fwd_flag: string (nullable = true)\n",
            " |-- PULocationID: long (nullable = true)\n",
            " |-- DOLocationID: long (nullable = true)\n",
            " |-- payment_type: long (nullable = true)\n",
            " |-- fare_amount: double (nullable = true)\n",
            " |-- extra: double (nullable = true)\n",
            " |-- mta_tax: double (nullable = true)\n",
            " |-- tip_amount: double (nullable = true)\n",
            " |-- tolls_amount: double (nullable = true)\n",
            " |-- improvement_surcharge: double (nullable = true)\n",
            " |-- total_amount: double (nullable = true)\n",
            " |-- congestion_surcharge: integer (nullable = true)\n",
            " |-- airport_fee: integer (nullable = true)\n",
            "\n"
          ]
        }
      ]
    },
    {
      "cell_type": "markdown",
      "source": [
        "## Store_and_fwd_flag"
      ],
      "metadata": {
        "id": "Mmvcat3r0fwb"
      }
    },
    {
      "cell_type": "code",
      "source": [
        "nyc_yellow_tripdata.groupby('store_and_fwd_flag').count().show()"
      ],
      "metadata": {
        "colab": {
          "base_uri": "https://localhost:8080/"
        },
        "id": "55v3qOjQ0QAj",
        "outputId": "76fa5e67-24fa-4037-d473-ddb4df6209cb"
      },
      "execution_count": null,
      "outputs": [
        {
          "output_type": "stream",
          "name": "stdout",
          "text": [
            "+------------------+--------+\n",
            "|store_and_fwd_flag|   count|\n",
            "+------------------+--------+\n",
            "|                 Y|  123154|\n",
            "|                 N|29071475|\n",
            "+------------------+--------+\n",
            "\n"
          ]
        }
      ]
    },
    {
      "cell_type": "markdown",
      "source": [
        "This variable can be represented as 1/0 instead of Y/N, so we make the conversion:"
      ],
      "metadata": {
        "id": "4LF3aPKAeeDR"
      }
    },
    {
      "cell_type": "code",
      "source": [
        "nyc_yellow_tripdata = nyc_yellow_tripdata.withColumn(\"store_and_fwd_flag\",F.when(nyc_yellow_tripdata[\"store_and_fwd_flag\"] == \"Y\", 1).otherwise(0))"
      ],
      "metadata": {
        "id": "Hto9x6f70q57"
      },
      "execution_count": null,
      "outputs": []
    },
    {
      "cell_type": "code",
      "source": [
        "nyc_yellow_tripdata.groupby('store_and_fwd_flag').count().show()"
      ],
      "metadata": {
        "colab": {
          "base_uri": "https://localhost:8080/"
        },
        "id": "kE7gY37W1HID",
        "outputId": "f5bab606-58e9-4d08-d257-161c8f828a56"
      },
      "execution_count": null,
      "outputs": [
        {
          "output_type": "stream",
          "name": "stdout",
          "text": [
            "+------------------+--------+\n",
            "|store_and_fwd_flag|   count|\n",
            "+------------------+--------+\n",
            "|                 1|  123154|\n",
            "|                 0|29071475|\n",
            "+------------------+--------+\n",
            "\n"
          ]
        }
      ]
    },
    {
      "cell_type": "markdown",
      "source": [
        "## Calculation of meter engagement time"
      ],
      "metadata": {
        "id": "m5SyHomZ1Xrj"
      }
    },
    {
      "cell_type": "markdown",
      "source": [
        "Given the drop off and pick up times, we can calculate the total meter engagement time:"
      ],
      "metadata": {
        "id": "y_xTHTsNek3J"
      }
    },
    {
      "cell_type": "code",
      "source": [
        "nyc_yellow_tripdata = nyc_yellow_tripdata.withColumn(\"meter_engagement_time_minutes\",F.round((F.unix_timestamp(\"tpep_dropoff_datetime\")-F.unix_timestamp(\"tpep_pickup_datetime\"))/60.0, 2))"
      ],
      "metadata": {
        "id": "y-UQzNSEU7jf"
      },
      "execution_count": null,
      "outputs": []
    },
    {
      "cell_type": "markdown",
      "source": [
        "# Data cleaning (excluding dates, which we already cleaned earlier)"
      ],
      "metadata": {
        "id": "8Of3aq7V1qob"
      }
    },
    {
      "cell_type": "markdown",
      "source": [
        "We remove full duplicates from the dataset and cache the dataset and this point (to improve the performance of the next jobs, since recomputing the in-memory columnar representation of the underlying table during the next cleaning steps would be expensive):"
      ],
      "metadata": {
        "id": "-rLSLrey15FL"
      }
    },
    {
      "cell_type": "code",
      "source": [
        "print(nyc_yellow_tripdata.count())\n",
        "nyc_yellow_tripdata = nyc_yellow_tripdata.dropDuplicates().cache()\n",
        "print(nyc_yellow_tripdata.count())"
      ],
      "metadata": {
        "id": "BpG7RS0-d2_M",
        "colab": {
          "base_uri": "https://localhost:8080/"
        },
        "outputId": "eb0a97cc-dafb-4b23-f1d1-b33a37db353b"
      },
      "execution_count": null,
      "outputs": [
        {
          "output_type": "stream",
          "name": "stdout",
          "text": [
            "29194629\n",
            "29194600\n"
          ]
        }
      ]
    },
    {
      "cell_type": "markdown",
      "source": [
        "We check the general metrics of the dataset to understand the distribution of the data and see if there are any outliers or values that do not make sense.\n",
        "\n",
        "We can see from the data distribution that some variables have clear outliers (passager_count = 192, fare_amount = 630461), and there are values that do not make sense (negative values for fare_amount, extra, etc.). "
      ],
      "metadata": {
        "id": "IKLurnob19YT"
      }
    },
    {
      "cell_type": "code",
      "source": [
        "nyc_yellow_tripdata.describe().show()"
      ],
      "metadata": {
        "colab": {
          "base_uri": "https://localhost:8080/"
        },
        "id": "w3VS7KkQzzYQ",
        "outputId": "40c545c0-925c-422a-f1da-89ad0f39c184"
      },
      "execution_count": null,
      "outputs": [
        {
          "output_type": "stream",
          "name": "stdout",
          "text": [
            "+-------+------------------+------------------+------------------+------------------+--------------------+------------------+------------------+-------------------+------------------+------------------+--------------------+------------------+------------------+---------------------+------------------+--------------------+-----------+-----------------------------+\n",
            "|summary|          VendorID|   passenger_count|     trip_distance|        RatecodeID|  store_and_fwd_flag|      PULocationID|      DOLocationID|       payment_type|       fare_amount|             extra|             mta_tax|        tip_amount|      tolls_amount|improvement_surcharge|      total_amount|congestion_surcharge|airport_fee|meter_engagement_time_minutes|\n",
            "+-------+------------------+------------------+------------------+------------------+--------------------+------------------+------------------+-------------------+------------------+------------------+--------------------+------------------+------------------+---------------------+------------------+--------------------+-----------+-----------------------------+\n",
            "|  count|          29194600|          29194600|          29194600|          29194600|            29194600|          29194600|          29194600|           29194600|          29194600|          29194600|            29194600|          29194600|          29194600|             29194600|          29194600|                   0|          0|                     29194600|\n",
            "|   mean|1.5463773780082617|1.6181709288704076|2.9207159813801247| 1.041394504463154|0.004218382851623246|163.20198670302042|161.10429596569227| 1.3289308981798005|13.104384473156005|0.3338745757777124|  0.4973289080857417|1.8751672048940602|0.3285287998465588|   0.2996501596189046|16.442795125814527|                null|       null|            16.83828432518347|\n",
            "| stddev| 0.497844501123225|1.2613936554339595|4.4755141933266245|0.3181126633762463| 0.06481194520782993| 66.61157892056356| 70.43796885713293|0.49015814572956246| 147.3820608011739|0.4614034706660014|0.048722154853359165| 2.645087631509239| 1.923603287453582| 0.013855209241865972|147.62433287727828|                null|       null|            56.16777509796504|\n",
            "|    min|                 1|                 0|               0.0|                 1|                   0|                 1|                 1|                  1|            -550.0|            -53.71|                -0.5|            -112.0|             -17.5|                 -0.3|            -550.3|                null|       null|                         0.02|\n",
            "|    max|                 2|               192|           9496.98|                99|                   1|               265|               265|                  5|         630461.82|              69.8|               54.51|             450.0|           1018.95|                  1.0|         630463.12|                null|       null|                     14407.65|\n",
            "+-------+------------------+------------------+------------------+------------------+--------------------+------------------+------------------+-------------------+------------------+------------------+--------------------+------------------+------------------+---------------------+------------------+--------------------+-----------+-----------------------------+\n",
            "\n"
          ]
        }
      ]
    },
    {
      "cell_type": "markdown",
      "source": [
        "In order to clean the variables, we will substitute the original values with null values in the cases that the original values do not make sense. We could also take other approaches, such as dropping all rows that contain incorrect/outlier values for any of the variables, but we can still extract meaningful information from the other variables in these cases, so this last procedure has been disregarded."
      ],
      "metadata": {
        "id": "tvGqqFRlgR94"
      }
    },
    {
      "cell_type": "markdown",
      "source": [
        "We create a new variable which will contain the clean dataset:"
      ],
      "metadata": {
        "id": "wz6uJkc-4Y6X"
      }
    },
    {
      "cell_type": "code",
      "source": [
        "nyc_yellow_tripdata_clean = nyc_yellow_tripdata"
      ],
      "metadata": {
        "id": "mNH6ufz84XhD"
      },
      "execution_count": null,
      "outputs": []
    },
    {
      "cell_type": "markdown",
      "source": [
        "We can now start to clean each variable individually"
      ],
      "metadata": {
        "id": "jZXbtcllgRsC"
      }
    },
    {
      "cell_type": "markdown",
      "source": [
        "## Congestion_Surcharge & Airport_fee"
      ],
      "metadata": {
        "id": "VXWVGZHL-qvY"
      }
    },
    {
      "cell_type": "markdown",
      "source": [
        "From the schema above, we can see that two of the variables do not contain any values, since their count is 0. We can safely delete these variables, as they are useless if they are completely null."
      ],
      "metadata": {
        "id": "ztOmdCzX3Q0H"
      }
    },
    {
      "cell_type": "code",
      "source": [
        "nyc_yellow_tripdata_clean = nyc_yellow_tripdata.drop(\"congestion_surcharge\",\"airport_fee\")"
      ],
      "metadata": {
        "id": "8fZ2HRwr3QSH"
      },
      "execution_count": null,
      "outputs": []
    },
    {
      "cell_type": "markdown",
      "source": [
        "## Meter_Engagement_Time_Minutes"
      ],
      "metadata": {
        "id": "ASbYrD9O-xW5"
      }
    },
    {
      "cell_type": "code",
      "source": [
        "variable_to_clean = \"meter_engagement_time_minutes\""
      ],
      "metadata": {
        "id": "XhAIQ8RB_D7w"
      },
      "execution_count": null,
      "outputs": []
    },
    {
      "cell_type": "markdown",
      "source": [
        "We can observe from the data distribution below that meter_engagement_time_minutes has clear outliers: values that are way too close to zero, such as 0.02 minutes, or values that are way too high, such as 14407 minutes.\n",
        "\n",
        "Depending on the problem, it could be interesting to analyze the nature of these outliers (for example, the data collection procedure could be misbehaving in some cases, and it would be useful to identify and correct those cases). Other times, we could be solely interested in outlier detection (for example, to detect fraudulent bank transactions).\n",
        "\n",
        "In this case, since the final goal is to build a machine learning model that behaves well in the common cases, we can remove outliers."
      ],
      "metadata": {
        "id": "DrkXWguLhvRA"
      }
    },
    {
      "cell_type": "code",
      "source": [
        "show_quantiles(nyc_yellow_tripdata_clean, variable_to_clean).show()"
      ],
      "metadata": {
        "colab": {
          "base_uri": "https://localhost:8080/"
        },
        "id": "LM14vWtuADYg",
        "outputId": "b5ef5b90-b46a-4ab5-dd7c-c34e9a4283ae"
      },
      "execution_count": null,
      "outputs": [
        {
          "output_type": "stream",
          "name": "stdout",
          "text": [
            "+----+----+----+----+----+---+---+----+----+---+----+----+----+-----+-----+-----+-----+----+-----+-----+-----+-----+-----+-----+-----+-----+----+-----+--------+\n",
            "|  %0|  %1|  %2|  %3|  %4| %5|%10| %15| %20|%25| %30| %35| %40|  %45|  %50|  %55|  %60| %65|  %70|  %75|  %80|  %85|  %90|  %95|  %96|  %97| %98|  %99|    %100|\n",
            "+----+----+----+----+----+---+---+----+----+---+----+----+----+-----+-----+-----+-----+----+-----+-----+-----+-----+-----+-----+-----+-----+----+-----+--------+\n",
            "|0.02|1.27|1.97|2.38|2.72|3.0|4.1|5.02|5.87|6.7|7.55|8.42|9.32|10.28|11.32|12.43|13.68|15.1|16.73|18.68|21.12|24.35|29.13|38.43|41.82|46.37|53.0|64.53|14407.65|\n",
            "+----+----+----+----+----+---+---+----+----+---+----+----+----+-----+-----+-----+-----+----+-----+-----+-----+-----+-----+-----+-----+-----+----+-----+--------+\n",
            "\n"
          ]
        }
      ]
    },
    {
      "cell_type": "markdown",
      "source": [
        "We remove the lowest (below the 1% percentile) and highest tail (above the 99% percentile) of the distribution"
      ],
      "metadata": {
        "id": "kjHs_UKzjJRv"
      }
    },
    {
      "cell_type": "code",
      "source": [
        "print(nyc_yellow_tripdata_clean.filter(F.col(variable_to_clean).isNotNull()).count())\n",
        "nyc_yellow_tripdata_clean = nyc_yellow_tripdata_clean.withColumn(variable_to_clean,F.when(F.col(variable_to_clean) < nyc_yellow_tripdata_clean.agg(F.expr('percentile('+variable_to_clean+', 0.01)')).collect()[0][0], F.lit(None)).otherwise(F.col(variable_to_clean)))\n",
        "nyc_yellow_tripdata_clean = nyc_yellow_tripdata_clean.withColumn(variable_to_clean,F.when(F.col(variable_to_clean) > nyc_yellow_tripdata_clean.agg(F.expr('percentile('+variable_to_clean+', 0.99)')).collect()[0][0], F.lit(None)).otherwise(F.col(variable_to_clean)))\n",
        "print(nyc_yellow_tripdata_clean.filter(F.col(variable_to_clean).isNotNull()).count())"
      ],
      "metadata": {
        "colab": {
          "base_uri": "https://localhost:8080/"
        },
        "id": "SbSilQ3WBEfA",
        "outputId": "6b52ad82-9c88-482d-a2bd-884a16d77cf6"
      },
      "execution_count": null,
      "outputs": [
        {
          "output_type": "stream",
          "name": "stdout",
          "text": [
            "29194600\n",
            "28618495\n"
          ]
        }
      ]
    },
    {
      "cell_type": "code",
      "source": [
        "show_quantiles(nyc_yellow_tripdata_clean, variable_to_clean).show()"
      ],
      "metadata": {
        "colab": {
          "base_uri": "https://localhost:8080/"
        },
        "id": "K5Z7G98Nim_Z",
        "outputId": "47e58389-83aa-4d09-b44b-0e2d9e36c1ca"
      },
      "execution_count": null,
      "outputs": [
        {
          "output_type": "stream",
          "name": "stdout",
          "text": [
            "+----+----+----+----+----+----+----+----+----+----+----+----+----+----+-----+-----+-----+----+-----+-----+----+-----+----+-----+-----+-----+-----+-----+-----+\n",
            "|  %0|  %1|  %2|  %3|  %4|  %5| %10| %15| %20| %25| %30| %35| %40| %45|  %50|  %55|  %60| %65|  %70|  %75| %80|  %85| %90|  %95|  %96|  %97|  %98|  %99| %100|\n",
            "+----+----+----+----+----+----+----+----+----+----+----+----+----+----+-----+-----+-----+----+-----+-----+----+-----+----+-----+-----+-----+-----+-----+-----+\n",
            "|1.27|1.93|2.37|2.68|2.97|3.22|4.25|5.13|5.97|6.78|7.62|8.47|9.35|10.3|11.32|12.42|13.63|15.0|16.58|18.47|20.8|23.83|28.2|36.08|38.72|42.08|46.65|53.25|64.72|\n",
            "+----+----+----+----+----+----+----+----+----+----+----+----+----+----+-----+-----+-----+----+-----+-----+----+-----+----+-----+-----+-----+-----+-----+-----+\n",
            "\n"
          ]
        }
      ]
    },
    {
      "cell_type": "markdown",
      "source": [
        "## Passenger_count"
      ],
      "metadata": {
        "id": "dDNZhaizBdgC"
      }
    },
    {
      "cell_type": "markdown",
      "source": [
        "According to the data dictionary, this is a driver-entered value, so there is a high probability that it contains wrong values because of human errors, since the dataset is quite large."
      ],
      "metadata": {
        "id": "chDMEzngnHZ3"
      }
    },
    {
      "cell_type": "code",
      "source": [
        "variable_to_clean = \"passenger_count\""
      ],
      "metadata": {
        "id": "EMGvJqmzBkjY"
      },
      "execution_count": null,
      "outputs": []
    },
    {
      "cell_type": "markdown",
      "source": [
        "There are some taxi trips with zero passangers. We can remove this, since if there are no passangers, there shouldn't be any passanger tips, and that's what we want to predict in the end."
      ],
      "metadata": {
        "id": "3gBcpjAAjXUb"
      }
    },
    {
      "cell_type": "code",
      "source": [
        "print(nyc_yellow_tripdata_clean.filter(F.col(variable_to_clean).isNotNull()).count())\n",
        "nyc_yellow_tripdata_clean = nyc_yellow_tripdata_clean.withColumn(variable_to_clean,F.when(F.col(variable_to_clean) <= 0, F.lit(None)).otherwise(F.col(variable_to_clean)))\n",
        "print(nyc_yellow_tripdata_clean.filter(F.col(variable_to_clean).isNotNull()).count())"
      ],
      "metadata": {
        "colab": {
          "base_uri": "https://localhost:8080/"
        },
        "id": "oUjBr6AmBj8Q",
        "outputId": "d5dd5833-2c92-42d6-e8d7-ed982caa6ca5"
      },
      "execution_count": null,
      "outputs": [
        {
          "output_type": "stream",
          "name": "stdout",
          "text": [
            "29194600\n",
            "29143388\n"
          ]
        }
      ]
    },
    {
      "cell_type": "markdown",
      "source": [
        "Below we can see all of the values that this variable has. The highest one (192) does not make any sense and we can remove it. The other high values (e.g., 7, 8, 9, etc.) could make sense for large taxies, and there are not many cases with those variables, so we can leave them there."
      ],
      "metadata": {
        "id": "VM9ik9qkB0pH"
      }
    },
    {
      "cell_type": "code",
      "source": [
        "nyc_yellow_tripdata_clean.groupby(variable_to_clean).count().orderBy(variable_to_clean).show()"
      ],
      "metadata": {
        "colab": {
          "base_uri": "https://localhost:8080/"
        },
        "id": "lpRsFJVFBr24",
        "outputId": "70008242-d23d-41f4-f128-c300c8b06476"
      },
      "execution_count": null,
      "outputs": [
        {
          "output_type": "stream",
          "name": "stdout",
          "text": [
            "+---------------+--------+\n",
            "|passenger_count|   count|\n",
            "+---------------+--------+\n",
            "|           null|   51212|\n",
            "|              1|20929842|\n",
            "|              2| 4214033|\n",
            "|              3| 1203562|\n",
            "|              4|  557849|\n",
            "|              5| 1387397|\n",
            "|              6|  850462|\n",
            "|              7|      88|\n",
            "|              8|      88|\n",
            "|              9|      66|\n",
            "|            192|       1|\n",
            "+---------------+--------+\n",
            "\n"
          ]
        }
      ]
    },
    {
      "cell_type": "markdown",
      "source": [
        "We remove the highest value:"
      ],
      "metadata": {
        "id": "J2ZRHSonkMo4"
      }
    },
    {
      "cell_type": "code",
      "source": [
        "print(nyc_yellow_tripdata_clean.filter(F.col(variable_to_clean).isNotNull()).count())\n",
        "nyc_yellow_tripdata_clean = nyc_yellow_tripdata_clean.withColumn(variable_to_clean,F.when(F.col(variable_to_clean) >= 10, F.lit(None)).otherwise(F.col(variable_to_clean)))\n",
        "print(nyc_yellow_tripdata_clean.filter(F.col(variable_to_clean).isNotNull()).count())"
      ],
      "metadata": {
        "colab": {
          "base_uri": "https://localhost:8080/"
        },
        "id": "y9N19fSLBw4P",
        "outputId": "8ac154d8-8019-4d90-b841-e507601d491f"
      },
      "execution_count": null,
      "outputs": [
        {
          "output_type": "stream",
          "name": "stdout",
          "text": [
            "29143388\n",
            "29143387\n"
          ]
        }
      ]
    },
    {
      "cell_type": "markdown",
      "source": [
        "## Trip_distance"
      ],
      "metadata": {
        "id": "NgcxdNZ6CXyH"
      }
    },
    {
      "cell_type": "code",
      "source": [
        "variable_to_clean = \"trip_distance\""
      ],
      "metadata": {
        "id": "NsbnLpnOCcGe"
      },
      "execution_count": null,
      "outputs": []
    },
    {
      "cell_type": "markdown",
      "source": [
        "It does not make sense that the trip distance is zero or negative, so remove those cases:"
      ],
      "metadata": {
        "id": "6agOaYQ5kcSw"
      }
    },
    {
      "cell_type": "code",
      "source": [
        "print(nyc_yellow_tripdata_clean.filter(F.col(variable_to_clean).isNotNull()).count())\n",
        "nyc_yellow_tripdata_clean = nyc_yellow_tripdata_clean.withColumn(variable_to_clean,F.when(F.col(variable_to_clean) <= 0, F.lit(None)).otherwise(F.col(variable_to_clean)))\n",
        "print(nyc_yellow_tripdata_clean.filter(F.col(variable_to_clean).isNotNull()).count())"
      ],
      "metadata": {
        "colab": {
          "base_uri": "https://localhost:8080/"
        },
        "id": "B1wIZnmNBwmn",
        "outputId": "316a7b32-452a-4517-be34-5571296a33b4"
      },
      "execution_count": null,
      "outputs": [
        {
          "output_type": "stream",
          "name": "stdout",
          "text": [
            "29194600\n",
            "29030392\n"
          ]
        }
      ]
    },
    {
      "cell_type": "markdown",
      "source": [
        "We also remove the lowest (below the 1% percentile) and highest tail (above the 99% percentile) of the distribution, since these values are way too low or too high, so they are probably incorrect."
      ],
      "metadata": {
        "id": "MFlovkjiklSQ"
      }
    },
    {
      "cell_type": "code",
      "source": [
        "show_quantiles(nyc_yellow_tripdata_clean, variable_to_clean).show()"
      ],
      "metadata": {
        "colab": {
          "base_uri": "https://localhost:8080/"
        },
        "id": "-9broEslCeKP",
        "outputId": "8b98258d-54e6-421f-a165-e85a31f34b99"
      },
      "execution_count": null,
      "outputs": [
        {
          "output_type": "stream",
          "name": "stdout",
          "text": [
            "+----+---+----+---+----+---+----+----+----+----+---+---+----+---+----+---+---+---+---+----+---+----+---+----+-----+-----------------+----+-----+-------+\n",
            "|  %0| %1|  %2| %3|  %4| %5| %10| %15| %20| %25|%30|%35| %40|%45| %50|%55|%60|%65|%70| %75|%80| %85|%90| %95|  %96|              %97| %98|  %99|   %100|\n",
            "+----+---+----+---+----+---+----+----+----+----+---+---+----+---+----+---+---+---+---+----+---+----+---+----+-----+-----------------+----+-----+-------+\n",
            "|0.01|0.3|0.37|0.4|0.46|0.5|0.62|0.76|0.88|0.99|1.1|1.2|1.32|1.5|1.62|1.8|2.0|2.3|2.6|3.04|3.7|4.75|6.8|10.8|11.95|14.60269999999553|17.3|18.93|9496.98|\n",
            "+----+---+----+---+----+---+----+----+----+----+---+---+----+---+----+---+---+---+---+----+---+----+---+----+-----+-----------------+----+-----+-------+\n",
            "\n"
          ]
        }
      ]
    },
    {
      "cell_type": "code",
      "source": [
        "print(nyc_yellow_tripdata_clean.filter(F.col(variable_to_clean).isNotNull()).count())\n",
        "nyc_yellow_tripdata_clean = nyc_yellow_tripdata_clean.withColumn(variable_to_clean,F.when(F.col(variable_to_clean) < nyc_yellow_tripdata_clean.agg(F.expr('percentile('+variable_to_clean+', 0.01)')).collect()[0][0], F.lit(None)).otherwise(F.col(variable_to_clean)))\n",
        "nyc_yellow_tripdata_clean = nyc_yellow_tripdata_clean.withColumn(variable_to_clean,F.when(F.col(variable_to_clean) > nyc_yellow_tripdata_clean.agg(F.expr('percentile('+variable_to_clean+', 0.99)')).collect()[0][0], F.lit(None)).otherwise(F.col(variable_to_clean)))\n",
        "print(nyc_yellow_tripdata_clean.filter(F.col(variable_to_clean).isNotNull()).count())"
      ],
      "metadata": {
        "colab": {
          "base_uri": "https://localhost:8080/"
        },
        "id": "GKVEQKgHCprv",
        "outputId": "3eb69e2a-cf26-4b5b-ddee-fd9280d79521"
      },
      "execution_count": null,
      "outputs": [
        {
          "output_type": "stream",
          "name": "stdout",
          "text": [
            "29030392\n",
            "28463613\n"
          ]
        }
      ]
    },
    {
      "cell_type": "code",
      "source": [
        "show_quantiles(nyc_yellow_tripdata_clean, variable_to_clean).show()"
      ],
      "metadata": {
        "colab": {
          "base_uri": "https://localhost:8080/"
        },
        "id": "w9OxlNAmksKL",
        "outputId": "8cb3e278-360a-4772-889d-a24159924338"
      },
      "execution_count": null,
      "outputs": [
        {
          "output_type": "stream",
          "name": "stdout",
          "text": [
            "+---+----+---+----+---+---+----+----+---+---+---+---+----+---+----+---+---+----+---+---+---+----+----+----+----+-----+-----+-----+-----+\n",
            "| %0|  %1| %2|  %3| %4| %5| %10| %15|%20|%25|%30|%35| %40|%45| %50|%55|%60| %65|%70|%75|%80| %85| %90| %95| %96|  %97|  %98|  %99| %100|\n",
            "+---+----+---+----+---+---+----+----+---+---+---+---+----+---+----+---+---+----+---+---+---+----+----+----+----+-----+-----+-----+-----+\n",
            "|0.3|0.36|0.4|0.45|0.5|0.5|0.66|0.78|0.9|1.0|1.1|1.2|1.33|1.5|1.62|1.8|2.0|2.27|2.6|3.0|3.6|4.57|6.32|10.0|10.9|12.06|14.81|17.31|18.97|\n",
            "+---+----+---+----+---+---+----+----+---+---+---+---+----+---+----+---+---+----+---+---+---+----+----+----+----+-----+-----+-----+-----+\n",
            "\n"
          ]
        }
      ]
    },
    {
      "cell_type": "markdown",
      "source": [
        "## Fare amount"
      ],
      "metadata": {
        "id": "GU2sqOi5DMYe"
      }
    },
    {
      "cell_type": "markdown",
      "source": [
        "This is the time-and-distance fare calculated by the meter. It does not make sense from a logical point of view that it is zero or lower. Also, even for Payment_type = 3 (No charge), we can see that the fare amount is generally higher than zero. Therefore, we can delete all values that are zero or lower."
      ],
      "metadata": {
        "id": "sizVilBFlU9n"
      }
    },
    {
      "cell_type": "code",
      "source": [
        "variable_to_clean = \"fare_amount\""
      ],
      "metadata": {
        "id": "F_4fqIYtDQXX"
      },
      "execution_count": null,
      "outputs": []
    },
    {
      "cell_type": "code",
      "source": [
        "nyc_yellow_tripdata_clean.groupby('Payment_type').agg(F.expr('count('+variable_to_clean+')'),\n",
        "                                                      F.expr('min('+variable_to_clean+')'),\n",
        "                                                      F.expr('percentile('+variable_to_clean+', 0.25)'),\n",
        "                                                      F.expr('mean('+variable_to_clean+')'),\n",
        "                                                      F.expr('percentile('+variable_to_clean+', 0.75)'),\n",
        "                                                      F.expr('percentile('+variable_to_clean+', 0.80)'),\n",
        "                                                      F.expr('percentile('+variable_to_clean+', 0.85)'),\n",
        "                                                      F.expr('percentile('+variable_to_clean+', 0.90)'),\n",
        "                                                      F.expr('percentile('+variable_to_clean+', 0.95)'),\n",
        "                                                      F.expr('max('+variable_to_clean+')')      \n",
        "                                                      ).show()"
      ],
      "metadata": {
        "colab": {
          "base_uri": "https://localhost:8080/"
        },
        "id": "ouLXd-h1L4Z6",
        "outputId": "030770b5-c116-4391-ecf4-d5c89b32cd28"
      },
      "execution_count": null,
      "outputs": [
        {
          "output_type": "stream",
          "name": "stdout",
          "text": [
            "+------------+------------------+----------------+-----------------------------+------------------+-----------------------------+-----------------------------+-----------------------------+-----------------------------+-----------------------------+----------------+\n",
            "|Payment_type|count(fare_amount)|min(fare_amount)|percentile(fare_amount, 0.25)| mean(fare_amount)|percentile(fare_amount, 0.75)|percentile(fare_amount, 0.80)|percentile(fare_amount, 0.85)|percentile(fare_amount, 0.90)|percentile(fare_amount, 0.95)|max(fare_amount)|\n",
            "+------------+------------------+----------------+-----------------------------+------------------+-----------------------------+-----------------------------+-----------------------------+-----------------------------+-----------------------------+----------------+\n",
            "|           1|          19832844|           -52.0|                          7.0|13.565015758203929|                         15.5|                         17.5|                         21.0|                         26.5|                         38.0|           900.0|\n",
            "|           3|            153885|          -550.0|                          3.0|15.833624004938743|                         15.0|                         18.0|                         22.0|                         30.5|                         52.0|        393221.5|\n",
            "|           2|           9164189|          -150.0|                          6.0|12.064711987061814|                         13.5|                         15.5|                         18.0|                         22.0|                         33.0|       630461.82|\n",
            "|           4|             43681|          -300.0|                          4.0|12.466597376433702|                         16.0|                         19.0|                         23.5|                         31.5|                         52.0|          8007.0|\n",
            "|           5|                 1|            10.0|                         10.0|              10.0|                         10.0|                         10.0|                         10.0|                         10.0|                         10.0|            10.0|\n",
            "+------------+------------------+----------------+-----------------------------+------------------+-----------------------------+-----------------------------+-----------------------------+-----------------------------+-----------------------------+----------------+\n",
            "\n"
          ]
        }
      ]
    },
    {
      "cell_type": "code",
      "source": [
        "print(nyc_yellow_tripdata_clean.filter(F.col(variable_to_clean).isNotNull()).count())\n",
        "nyc_yellow_tripdata_clean = nyc_yellow_tripdata_clean.withColumn(variable_to_clean,F.when(F.col(variable_to_clean) <= 0, F.lit(None)).otherwise(F.col(variable_to_clean)))\n",
        "print(nyc_yellow_tripdata_clean.filter(F.col(variable_to_clean).isNotNull()).count())"
      ],
      "metadata": {
        "colab": {
          "base_uri": "https://localhost:8080/"
        },
        "id": "qJ_NLUi3DH-o",
        "outputId": "4fbc3ee6-b082-4814-82ca-d83edd5559da"
      },
      "execution_count": null,
      "outputs": [
        {
          "output_type": "stream",
          "name": "stdout",
          "text": [
            "29194600\n",
            "29173177\n"
          ]
        }
      ]
    },
    {
      "cell_type": "markdown",
      "source": [
        "We also remove the lowest (below the 1% percentile) and highest tail (above the 99% percentile) of the distribution, since these values are way too low or too high, so they are probably incorrect."
      ],
      "metadata": {
        "id": "RGc65ugJlf8X"
      }
    },
    {
      "cell_type": "code",
      "source": [
        "show_quantiles(nyc_yellow_tripdata_clean, variable_to_clean).show()"
      ],
      "metadata": {
        "colab": {
          "base_uri": "https://localhost:8080/"
        },
        "id": "5jOqZaB5Del3",
        "outputId": "38ed1e1f-59a6-4943-aa50-ac2afdb82600"
      },
      "execution_count": null,
      "outputs": [
        {
          "output_type": "stream",
          "name": "stdout",
          "text": [
            "+----+---+---+---+---+---+---+---+---+---+---+---+---+---+---+----+----+----+----+----+----+----+----+----+----+----+----+----+---------+\n",
            "|  %0| %1| %2| %3| %4| %5|%10|%15|%20|%25|%30|%35|%40|%45|%50| %55| %60| %65| %70| %75| %80| %85| %90| %95| %96| %97| %98| %99|     %100|\n",
            "+----+---+---+---+---+---+---+---+---+---+---+---+---+---+---+----+----+----+----+----+----+----+----+----+----+----+----+----+---------+\n",
            "|0.01|3.5|3.5|4.0|4.0|4.5|5.0|5.5|6.0|6.5|7.0|7.5|8.0|9.0|9.5|10.0|11.0|12.0|13.0|14.5|17.0|20.0|25.5|37.0|41.5|51.0|52.0|52.0|630461.82|\n",
            "+----+---+---+---+---+---+---+---+---+---+---+---+---+---+---+----+----+----+----+----+----+----+----+----+----+----+----+----+---------+\n",
            "\n"
          ]
        }
      ]
    },
    {
      "cell_type": "code",
      "source": [
        "print(nyc_yellow_tripdata_clean.filter(F.col(variable_to_clean).isNotNull()).count())\n",
        "nyc_yellow_tripdata_clean = nyc_yellow_tripdata_clean.withColumn(variable_to_clean,F.when(F.col(variable_to_clean) < nyc_yellow_tripdata_clean.agg(F.expr('percentile('+variable_to_clean+', 0.01)')).collect()[0][0], F.lit(None)).otherwise(F.col(variable_to_clean)))\n",
        "nyc_yellow_tripdata_clean = nyc_yellow_tripdata_clean.withColumn(variable_to_clean,F.when(F.col(variable_to_clean) > nyc_yellow_tripdata_clean.agg(F.expr('percentile('+variable_to_clean+', 0.99)')).collect()[0][0], F.lit(None)).otherwise(F.col(variable_to_clean)))\n",
        "print(nyc_yellow_tripdata_clean.filter(F.col(variable_to_clean).isNotNull()).count())"
      ],
      "metadata": {
        "colab": {
          "base_uri": "https://localhost:8080/"
        },
        "id": "w6mJIpTgDiyX",
        "outputId": "8719b82f-7ccb-46c8-8ce6-08e60170bfb2"
      },
      "execution_count": null,
      "outputs": [
        {
          "output_type": "stream",
          "name": "stdout",
          "text": [
            "29173177\n",
            "28717024\n"
          ]
        }
      ]
    },
    {
      "cell_type": "code",
      "source": [
        "show_quantiles(nyc_yellow_tripdata_clean, variable_to_clean).show()"
      ],
      "metadata": {
        "colab": {
          "base_uri": "https://localhost:8080/"
        },
        "id": "2tyHklSmliUN",
        "outputId": "da9c04f9-75b1-48d2-af8c-f64448d25d89"
      },
      "execution_count": null,
      "outputs": [
        {
          "output_type": "stream",
          "name": "stdout",
          "text": [
            "+---+---+---+---+---+---+---+---+---+---+---+---+---+---+---+----+----+----+----+----+----+----+----+----+----+----+----+----+----+\n",
            "| %0| %1| %2| %3| %4| %5|%10|%15|%20|%25|%30|%35|%40|%45|%50| %55| %60| %65| %70| %75| %80| %85| %90| %95| %96| %97| %98| %99|%100|\n",
            "+---+---+---+---+---+---+---+---+---+---+---+---+---+---+---+----+----+----+----+----+----+----+----+----+----+----+----+----+----+\n",
            "|3.5|3.5|4.0|4.0|4.5|4.5|5.0|5.5|6.0|6.5|7.0|7.5|8.0|9.0|9.5|10.0|11.0|12.0|13.0|14.5|16.5|19.5|24.5|35.0|38.0|43.5|52.0|52.0|52.0|\n",
            "+---+---+---+---+---+---+---+---+---+---+---+---+---+---+---+----+----+----+----+----+----+----+----+----+----+----+----+----+----+\n",
            "\n"
          ]
        }
      ]
    },
    {
      "cell_type": "markdown",
      "source": [
        "## Extra"
      ],
      "metadata": {
        "id": "J5uSAoCzDsfW"
      }
    },
    {
      "cell_type": "markdown",
      "source": [
        "This value represents miscellaneous extras and surcharges. It should not contain negative values, so we remove those."
      ],
      "metadata": {
        "id": "CsanQkTGlq6e"
      }
    },
    {
      "cell_type": "code",
      "source": [
        "variable_to_clean = \"extra\""
      ],
      "metadata": {
        "id": "GbJsh-4jD3QH"
      },
      "execution_count": null,
      "outputs": []
    },
    {
      "cell_type": "code",
      "source": [
        "print(nyc_yellow_tripdata_clean.filter(F.col(variable_to_clean).isNotNull()).count())\n",
        "nyc_yellow_tripdata_clean = nyc_yellow_tripdata_clean.withColumn(variable_to_clean,F.when(F.col(variable_to_clean) < 0, F.lit(None)).otherwise(F.col(variable_to_clean)))\n",
        "print(nyc_yellow_tripdata_clean.filter(F.col(variable_to_clean).isNotNull()).count())"
      ],
      "metadata": {
        "colab": {
          "base_uri": "https://localhost:8080/"
        },
        "id": "99-YhoiAD5YQ",
        "outputId": "aac7389f-0921-4fce-b365-d0e92b55e12a"
      },
      "execution_count": null,
      "outputs": [
        {
          "output_type": "stream",
          "name": "stdout",
          "text": [
            "29194600\n",
            "29187611\n"
          ]
        }
      ]
    },
    {
      "cell_type": "markdown",
      "source": [
        "According to the data dictionary, this variable should only include the 0.50 and 1 dollar rush hour and overnight charges, so it shouldn't be higher than 1 in any case. We remove values higher than one."
      ],
      "metadata": {
        "id": "Cs9pgHm4l09H"
      }
    },
    {
      "cell_type": "code",
      "source": [
        "show_quantiles(nyc_yellow_tripdata_clean, variable_to_clean).show()"
      ],
      "metadata": {
        "colab": {
          "base_uri": "https://localhost:8080/"
        },
        "id": "IL1chYnwEF2D",
        "outputId": "fa669f24-81b0-4de0-91d8-d1c16bcb4ec2"
      },
      "execution_count": null,
      "outputs": [
        {
          "output_type": "stream",
          "name": "stdout",
          "text": [
            "+---+---+---+---+---+---+---+---+---+---+---+---+---+---+---+---+---+---+---+---+---+---+---+---+---+---+---+---+----+\n",
            "| %0| %1| %2| %3| %4| %5|%10|%15|%20|%25|%30|%35|%40|%45|%50|%55|%60|%65|%70|%75|%80|%85|%90|%95|%96|%97|%98|%99|%100|\n",
            "+---+---+---+---+---+---+---+---+---+---+---+---+---+---+---+---+---+---+---+---+---+---+---+---+---+---+---+---+----+\n",
            "|0.0|0.0|0.0|0.0|0.0|0.0|0.0|0.0|0.0|0.0|0.0|0.0|0.0|0.0|0.0|0.5|0.5|0.5|0.5|0.5|0.5|1.0|1.0|1.0|1.0|1.0|1.0|1.0|69.8|\n",
            "+---+---+---+---+---+---+---+---+---+---+---+---+---+---+---+---+---+---+---+---+---+---+---+---+---+---+---+---+----+\n",
            "\n"
          ]
        }
      ]
    },
    {
      "cell_type": "code",
      "source": [
        "print(nyc_yellow_tripdata_clean.filter(F.col(variable_to_clean).isNotNull()).count())\n",
        "nyc_yellow_tripdata_clean = nyc_yellow_tripdata_clean.withColumn(variable_to_clean,F.when(F.col(variable_to_clean) > 1, F.lit(None)).otherwise(F.col(variable_to_clean)))\n",
        "print(nyc_yellow_tripdata_clean.filter(F.col(variable_to_clean).isNotNull()).count())"
      ],
      "metadata": {
        "colab": {
          "base_uri": "https://localhost:8080/"
        },
        "id": "nByUqpF6EOIW",
        "outputId": "0c1776a8-ff77-4d45-8f72-829588b78dd4"
      },
      "execution_count": null,
      "outputs": [
        {
          "output_type": "stream",
          "name": "stdout",
          "text": [
            "29187611\n",
            "29066237\n"
          ]
        }
      ]
    },
    {
      "cell_type": "markdown",
      "source": [
        "We can see that there are some values that are not 0, 0.5 or 1. According to the data dictionary, this should never be the case, so we remove the values that do not meet this condition."
      ],
      "metadata": {
        "id": "gjzP7L5Xmoyw"
      }
    },
    {
      "cell_type": "code",
      "source": [
        "nyc_yellow_tripdata_clean.groupby(variable_to_clean).count().sort(F.desc(\"count\")).show()"
      ],
      "metadata": {
        "colab": {
          "base_uri": "https://localhost:8080/"
        },
        "id": "L_OIqXvKESpu",
        "outputId": "2b91cd87-6592-4d40-cb98-5a5857c54436"
      },
      "execution_count": null,
      "outputs": [
        {
          "output_type": "stream",
          "name": "stdout",
          "text": [
            "+-----+--------+\n",
            "|extra|   count|\n",
            "+-----+--------+\n",
            "|  0.0|15274428|\n",
            "|  0.5| 9169244|\n",
            "|  1.0| 4621755|\n",
            "| null|  128363|\n",
            "|  0.3|     469|\n",
            "|  0.8|     247|\n",
            "| 0.02|      30|\n",
            "|  0.1|      16|\n",
            "|  0.2|      14|\n",
            "| 0.25|      12|\n",
            "|  0.7|       4|\n",
            "|  0.9|       3|\n",
            "|  0.6|       3|\n",
            "|  0.4|       3|\n",
            "| 0.01|       2|\n",
            "| 0.21|       1|\n",
            "| 0.95|       1|\n",
            "| 0.49|       1|\n",
            "| 0.74|       1|\n",
            "| 0.06|       1|\n",
            "+-----+--------+\n",
            "only showing top 20 rows\n",
            "\n"
          ]
        }
      ]
    },
    {
      "cell_type": "code",
      "source": [
        "print(nyc_yellow_tripdata_clean.filter(F.col(variable_to_clean).isNotNull()).count())\n",
        "nyc_yellow_tripdata_clean = nyc_yellow_tripdata_clean.withColumn(variable_to_clean,F.when(~F.col(variable_to_clean).isin([0.0,0.5,1.0]), F.lit(None)).otherwise(F.col(variable_to_clean)))\n",
        "print(nyc_yellow_tripdata_clean.filter(F.col(variable_to_clean).isNotNull()).count())"
      ],
      "metadata": {
        "colab": {
          "base_uri": "https://localhost:8080/"
        },
        "id": "GPGUD6GkESQW",
        "outputId": "85ac7278-fe70-43a3-819a-11651950a55a"
      },
      "execution_count": null,
      "outputs": [
        {
          "output_type": "stream",
          "name": "stdout",
          "text": [
            "29066237\n",
            "29065427\n"
          ]
        }
      ]
    },
    {
      "cell_type": "code",
      "source": [
        "nyc_yellow_tripdata_clean.groupby(variable_to_clean).count().orderBy(variable_to_clean).show()"
      ],
      "metadata": {
        "colab": {
          "base_uri": "https://localhost:8080/"
        },
        "id": "6ilO5BIFEJRA",
        "outputId": "1ea79ff3-743d-4e4f-8ad4-360fbd795896"
      },
      "execution_count": null,
      "outputs": [
        {
          "output_type": "stream",
          "name": "stdout",
          "text": [
            "+-----+--------+\n",
            "|extra|   count|\n",
            "+-----+--------+\n",
            "| null|  129173|\n",
            "|  0.0|15274428|\n",
            "|  0.5| 9169244|\n",
            "|  1.0| 4621755|\n",
            "+-----+--------+\n",
            "\n"
          ]
        }
      ]
    },
    {
      "cell_type": "markdown",
      "source": [
        "## MTA_tax"
      ],
      "metadata": {
        "id": "OCgKIOiBGEL9"
      }
    },
    {
      "cell_type": "markdown",
      "source": [
        "According to the data dictionary, the MTA tax is always 0.5 dollars and it is automatically triggered based on the metered rate in use. It should not contain negative values, so we can remove those."
      ],
      "metadata": {
        "id": "EFpfdUgGnie_"
      }
    },
    {
      "cell_type": "code",
      "source": [
        "variable_to_clean = \"mta_tax\""
      ],
      "metadata": {
        "id": "3o32t_FpEFpw"
      },
      "execution_count": null,
      "outputs": []
    },
    {
      "cell_type": "code",
      "source": [
        "print(nyc_yellow_tripdata_clean.filter(F.col(variable_to_clean).isNotNull()).count())\n",
        "nyc_yellow_tripdata_clean = nyc_yellow_tripdata_clean.withColumn(variable_to_clean,F.when(F.col(variable_to_clean) < 0, F.lit(None)).otherwise(F.col(variable_to_clean)))\n",
        "print(nyc_yellow_tripdata_clean.filter(F.col(variable_to_clean).isNotNull()).count())"
      ],
      "metadata": {
        "colab": {
          "base_uri": "https://localhost:8080/"
        },
        "id": "-LjTbRaIDzpH",
        "outputId": "facf2584-f689-44f6-cdb0-7b2eb6d9a40f"
      },
      "execution_count": null,
      "outputs": [
        {
          "output_type": "stream",
          "name": "stdout",
          "text": [
            "29194600\n",
            "29180980\n"
          ]
        }
      ]
    },
    {
      "cell_type": "code",
      "source": [
        "show_quantiles(nyc_yellow_tripdata_clean, variable_to_clean).show()"
      ],
      "metadata": {
        "colab": {
          "base_uri": "https://localhost:8080/"
        },
        "id": "nAU4jgv3Dzjf",
        "outputId": "1a6dd063-0e22-45ef-d2b0-4aa03fb04ad8"
      },
      "execution_count": null,
      "outputs": [
        {
          "output_type": "stream",
          "name": "stdout",
          "text": [
            "+---+---+---+---+---+---+---+---+---+---+---+---+---+---+---+---+---+---+---+---+---+---+---+---+---+---+---+---+-----+\n",
            "| %0| %1| %2| %3| %4| %5|%10|%15|%20|%25|%30|%35|%40|%45|%50|%55|%60|%65|%70|%75|%80|%85|%90|%95|%96|%97|%98|%99| %100|\n",
            "+---+---+---+---+---+---+---+---+---+---+---+---+---+---+---+---+---+---+---+---+---+---+---+---+---+---+---+---+-----+\n",
            "|0.0|0.5|0.5|0.5|0.5|0.5|0.5|0.5|0.5|0.5|0.5|0.5|0.5|0.5|0.5|0.5|0.5|0.5|0.5|0.5|0.5|0.5|0.5|0.5|0.5|0.5|0.5|0.5|54.51|\n",
            "+---+---+---+---+---+---+---+---+---+---+---+---+---+---+---+---+---+---+---+---+---+---+---+---+---+---+---+---+-----+\n",
            "\n"
          ]
        }
      ]
    },
    {
      "cell_type": "markdown",
      "source": [
        "From the data distribution values we can see that (in line with what is specified in the data dictionary) almost all values are 0.5. Those that are not 0.5 are probably wrong, so we can substitute them with 0.5.\n",
        "\n",
        "If all values are 0.5, this variable will not be of any use for a machine learning model, since it is not adding any relevant information. However, we can still leave it here in case that it helps to understand the values of other variables."
      ],
      "metadata": {
        "id": "0NEfY00vnwgI"
      }
    },
    {
      "cell_type": "code",
      "source": [
        "nyc_yellow_tripdata_clean = nyc_yellow_tripdata_clean.withColumn(variable_to_clean, F.lit(0.5))"
      ],
      "metadata": {
        "id": "JJWdt85yGM_2"
      },
      "execution_count": null,
      "outputs": []
    },
    {
      "cell_type": "code",
      "source": [
        "nyc_yellow_tripdata_clean.groupby(variable_to_clean).count().sort(F.desc(\"count\")).show()"
      ],
      "metadata": {
        "colab": {
          "base_uri": "https://localhost:8080/"
        },
        "id": "sa26iSoOGM7e",
        "outputId": "48f9b611-3fe7-435b-b36e-ea05f75b43ca"
      },
      "execution_count": null,
      "outputs": [
        {
          "output_type": "stream",
          "name": "stdout",
          "text": [
            "+-------+--------+\n",
            "|mta_tax|   count|\n",
            "+-------+--------+\n",
            "|    0.5|29194600|\n",
            "+-------+--------+\n",
            "\n"
          ]
        }
      ]
    },
    {
      "cell_type": "markdown",
      "source": [
        "## Tolls_amount"
      ],
      "metadata": {
        "id": "4_7SmeApGnJw"
      }
    },
    {
      "cell_type": "markdown",
      "source": [
        "This is the tolls amount of all tolls paid in trip. Negative values do not make sense in here, so we remove them."
      ],
      "metadata": {
        "id": "VRee2QKMoN-3"
      }
    },
    {
      "cell_type": "code",
      "source": [
        "variable_to_clean = \"tolls_amount\""
      ],
      "metadata": {
        "id": "Eo2xFxY7Gw4m"
      },
      "execution_count": null,
      "outputs": []
    },
    {
      "cell_type": "code",
      "source": [
        "print(nyc_yellow_tripdata_clean.filter(F.col(variable_to_clean).isNotNull()).count())\n",
        "nyc_yellow_tripdata_clean = nyc_yellow_tripdata_clean.withColumn(variable_to_clean,F.when(F.col(variable_to_clean) < 0, F.lit(None)).otherwise(F.col(variable_to_clean)))\n",
        "print(nyc_yellow_tripdata_clean.filter(F.col(variable_to_clean).isNotNull()).count())"
      ],
      "metadata": {
        "colab": {
          "base_uri": "https://localhost:8080/"
        },
        "id": "UFrnQlWfGypO",
        "outputId": "d7802fb7-2c43-4b4f-b6b2-c24b9a868fcc"
      },
      "execution_count": null,
      "outputs": [
        {
          "output_type": "stream",
          "name": "stdout",
          "text": [
            "29194600\n",
            "29194527\n"
          ]
        }
      ]
    },
    {
      "cell_type": "markdown",
      "source": [
        "We can see that the toll amount is zero in the majority of the cases, and 5.76 in many other cases. Very high values (such as the maximum of 1018.95) are most probably incorrect, so we can remove all values that are higher than the 99% percentile (5.76)"
      ],
      "metadata": {
        "id": "BlLTU6BPoamI"
      }
    },
    {
      "cell_type": "code",
      "source": [
        "show_quantiles(nyc_yellow_tripdata_clean, variable_to_clean).show()"
      ],
      "metadata": {
        "colab": {
          "base_uri": "https://localhost:8080/"
        },
        "id": "VaC4l-ocGM0v",
        "outputId": "7dd71ddf-341b-49d8-cc3d-af43f22b4aa4"
      },
      "execution_count": null,
      "outputs": [
        {
          "output_type": "stream",
          "name": "stdout",
          "text": [
            "+---+---+---+---+---+---+---+---+---+---+---+---+---+---+---+---+---+---+---+---+---+---+---+----+----+----+----+----+-------+\n",
            "| %0| %1| %2| %3| %4| %5|%10|%15|%20|%25|%30|%35|%40|%45|%50|%55|%60|%65|%70|%75|%80|%85|%90| %95| %96| %97| %98| %99|   %100|\n",
            "+---+---+---+---+---+---+---+---+---+---+---+---+---+---+---+---+---+---+---+---+---+---+---+----+----+----+----+----+-------+\n",
            "|0.0|0.0|0.0|0.0|0.0|0.0|0.0|0.0|0.0|0.0|0.0|0.0|0.0|0.0|0.0|0.0|0.0|0.0|0.0|0.0|0.0|0.0|0.0|5.54|5.76|5.76|5.76|5.76|1018.95|\n",
            "+---+---+---+---+---+---+---+---+---+---+---+---+---+---+---+---+---+---+---+---+---+---+---+----+----+----+----+----+-------+\n",
            "\n"
          ]
        }
      ]
    },
    {
      "cell_type": "code",
      "source": [
        "print(nyc_yellow_tripdata_clean.filter(F.col(variable_to_clean).isNotNull()).count())\n",
        "nyc_yellow_tripdata_clean = nyc_yellow_tripdata_clean.withColumn(variable_to_clean,F.when(F.col(variable_to_clean) > nyc_yellow_tripdata_clean.agg(F.expr('percentile('+variable_to_clean+', 0.99)')).collect()[0][0], F.lit(None)).otherwise(F.col(variable_to_clean)))\n",
        "print(nyc_yellow_tripdata_clean.filter(F.col(variable_to_clean).isNotNull()).count())"
      ],
      "metadata": {
        "colab": {
          "base_uri": "https://localhost:8080/"
        },
        "id": "bZpQ14HbG5dA",
        "outputId": "d2dc46b5-c812-4f1b-afa7-bf0878e6dc43"
      },
      "execution_count": null,
      "outputs": [
        {
          "output_type": "stream",
          "name": "stdout",
          "text": [
            "29194527\n",
            "29095575\n"
          ]
        }
      ]
    },
    {
      "cell_type": "code",
      "source": [
        "show_quantiles(nyc_yellow_tripdata_clean, variable_to_clean).show()"
      ],
      "metadata": {
        "colab": {
          "base_uri": "https://localhost:8080/"
        },
        "id": "I8xC1ubgpgFH",
        "outputId": "1308d2f8-795a-4648-abba-082ead028770"
      },
      "execution_count": null,
      "outputs": [
        {
          "output_type": "stream",
          "name": "stdout",
          "text": [
            "+---+---+---+---+---+---+---+---+---+---+---+---+---+---+---+---+---+---+---+---+---+---+---+---+----+----+----+----+----+\n",
            "| %0| %1| %2| %3| %4| %5|%10|%15|%20|%25|%30|%35|%40|%45|%50|%55|%60|%65|%70|%75|%80|%85|%90|%95| %96| %97| %98| %99|%100|\n",
            "+---+---+---+---+---+---+---+---+---+---+---+---+---+---+---+---+---+---+---+---+---+---+---+---+----+----+----+----+----+\n",
            "|0.0|0.0|0.0|0.0|0.0|0.0|0.0|0.0|0.0|0.0|0.0|0.0|0.0|0.0|0.0|0.0|0.0|0.0|0.0|0.0|0.0|0.0|0.0|0.0|5.54|5.76|5.76|5.76|5.76|\n",
            "+---+---+---+---+---+---+---+---+---+---+---+---+---+---+---+---+---+---+---+---+---+---+---+---+----+----+----+----+----+\n",
            "\n"
          ]
        }
      ]
    },
    {
      "cell_type": "markdown",
      "source": [
        "## Total_amount"
      ],
      "metadata": {
        "id": "Ks4BZsfXHIaf"
      }
    },
    {
      "cell_type": "markdown",
      "source": [
        "The total amount charged to passengers (excluding cash tips) shouldn't be zero or lower. Also, even for Payment_type = 3 (No charge), we can see that the total amount is generally higher than zero. Therefore, we can delete all values that are zero or lower."
      ],
      "metadata": {
        "id": "HSNIB2yiqFAu"
      }
    },
    {
      "cell_type": "code",
      "source": [
        "variable_to_clean = \"total_amount\""
      ],
      "metadata": {
        "id": "uvGKd-NNHPgP"
      },
      "execution_count": null,
      "outputs": []
    },
    {
      "cell_type": "code",
      "source": [
        "nyc_yellow_tripdata_clean.groupby('Payment_type').agg(F.expr('count('+variable_to_clean+')'),\n",
        "                                                      F.expr('min('+variable_to_clean+')'),\n",
        "                                                      F.expr('percentile('+variable_to_clean+', 0.25)'),\n",
        "                                                      F.expr('mean('+variable_to_clean+')'),\n",
        "                                                      F.expr('percentile('+variable_to_clean+', 0.75)'),\n",
        "                                                      F.expr('percentile('+variable_to_clean+', 0.80)'),\n",
        "                                                      F.expr('percentile('+variable_to_clean+', 0.85)'),\n",
        "                                                      F.expr('percentile('+variable_to_clean+', 0.90)'),\n",
        "                                                      F.expr('percentile('+variable_to_clean+', 0.95)'),\n",
        "                                                      F.expr('max('+variable_to_clean+')')      \n",
        "                                                      ).show()"
      ],
      "metadata": {
        "colab": {
          "base_uri": "https://localhost:8080/"
        },
        "id": "hiwrFyylSw6A",
        "outputId": "4974cee2-176e-429d-a381-559cce9a8b6a"
      },
      "execution_count": null,
      "outputs": [
        {
          "output_type": "stream",
          "name": "stdout",
          "text": [
            "+------------+-------------------+-----------------+------------------------------+------------------+------------------------------+------------------------------+------------------------------+------------------------------+------------------------------+-----------------+\n",
            "|Payment_type|count(total_amount)|min(total_amount)|percentile(total_amount, 0.25)|mean(total_amount)|percentile(total_amount, 0.75)|percentile(total_amount, 0.80)|percentile(total_amount, 0.85)|percentile(total_amount, 0.90)|percentile(total_amount, 0.95)|max(total_amount)|\n",
            "+------------+-------------------+-----------------+------------------------------+------------------+------------------------------+------------------------------+------------------------------+------------------------------+------------------------------+-----------------+\n",
            "|           1|           19832844|           -70.59|                          9.36|17.844090385130777|                         19.55|                         21.96|                         26.15|                         33.96|                          51.0|            900.0|\n",
            "|           5|                  1|             10.0|                          10.0|              10.0|                          10.0|                          10.0|                          10.0|                          10.0|                          10.0|             10.0|\n",
            "|           3|             153885|           -550.3|                           4.3|17.362035221106574|                          16.3|                          19.3|                          23.3|                          32.8|                          52.8|        393222.32|\n",
            "|           2|            9164189|           -161.3|                           7.3|13.406291694769994|                          14.8|                          16.3|                          18.8|                          23.3|                          36.3|        630463.12|\n",
            "|           4|              43681|           -300.3|                           5.3|14.015429591813392|                          17.3|                          20.3|                          24.8|                          33.8|                          52.8|           8007.8|\n",
            "+------------+-------------------+-----------------+------------------------------+------------------+------------------------------+------------------------------+------------------------------+------------------------------+------------------------------+-----------------+\n",
            "\n"
          ]
        }
      ]
    },
    {
      "cell_type": "code",
      "source": [
        "print(nyc_yellow_tripdata_clean.filter(F.col(variable_to_clean).isNotNull()).count())\n",
        "nyc_yellow_tripdata_clean = nyc_yellow_tripdata_clean.withColumn(variable_to_clean,F.when(F.col(variable_to_clean) <= 0, F.lit(None)).otherwise(F.col(variable_to_clean)))\n",
        "print(nyc_yellow_tripdata_clean.filter(F.col(variable_to_clean).isNotNull()).count())"
      ],
      "metadata": {
        "colab": {
          "base_uri": "https://localhost:8080/"
        },
        "id": "lIlWbW_SHRum",
        "outputId": "4dbcb8f2-a9c9-43e3-cd5f-fbe492a9b9b7"
      },
      "execution_count": null,
      "outputs": [
        {
          "output_type": "stream",
          "name": "stdout",
          "text": [
            "29194600\n",
            "29177804\n"
          ]
        }
      ]
    },
    {
      "cell_type": "markdown",
      "source": [
        "We also remove the lowest (below the 1% percentile) and highest tail (above the 99% percentile) of the distribution, since these values are way too low or too high, so they are probably incorrect."
      ],
      "metadata": {
        "id": "krA6WTTPqL4O"
      }
    },
    {
      "cell_type": "code",
      "source": [
        "show_quantiles(nyc_yellow_tripdata_clean, variable_to_clean).show()"
      ],
      "metadata": {
        "colab": {
          "base_uri": "https://localhost:8080/"
        },
        "id": "sJ8w8_JpHLwX",
        "outputId": "f45f820b-b41f-495b-93a7-a358ed68504d"
      },
      "execution_count": null,
      "outputs": [
        {
          "output_type": "stream",
          "name": "stdout",
          "text": [
            "+----+----+---+---+----+---+---+---+----+----+---+---+-----+-----+----+----+----+----+----+----+----+----+-----+----+----+-----+-----+-----+---------+\n",
            "|  %0|  %1| %2| %3|  %4| %5|%10|%15| %20| %25|%30|%35|  %40|  %45| %50| %55| %60| %65| %70| %75| %80| %85|  %90| %95| %96|  %97|  %98|  %99|     %100|\n",
            "+----+----+---+---+----+---+---+---+----+----+---+---+-----+-----+----+----+----+----+----+----+----+----+-----+----+----+-----+-----+-----+---------+\n",
            "|0.05|4.55|5.0|5.3|5.76|5.8|6.8|7.3|7.88|8.75|9.3|9.8|10.55|11.16|11.8|12.8|13.8|14.8|16.3|17.8|20.3|23.8|30.41|47.3|52.8|58.56|63.44|70.27|630463.12|\n",
            "+----+----+---+---+----+---+---+---+----+----+---+---+-----+-----+----+----+----+----+----+----+----+----+-----+----+----+-----+-----+-----+---------+\n",
            "\n"
          ]
        }
      ]
    },
    {
      "cell_type": "code",
      "source": [
        "print(nyc_yellow_tripdata_clean.filter(F.col(variable_to_clean).isNotNull()).count())\n",
        "nyc_yellow_tripdata_clean = nyc_yellow_tripdata_clean.withColumn(variable_to_clean,F.when(F.col(variable_to_clean) < nyc_yellow_tripdata_clean.agg(F.expr('percentile('+variable_to_clean+', 0.01)')).collect()[0][0], F.lit(None)).otherwise(F.col(variable_to_clean)))\n",
        "nyc_yellow_tripdata_clean = nyc_yellow_tripdata_clean.withColumn(variable_to_clean,F.when(F.col(variable_to_clean) > nyc_yellow_tripdata_clean.agg(F.expr('percentile('+variable_to_clean+', 0.99)')).collect()[0][0], F.lit(None)).otherwise(F.col(variable_to_clean)))\n",
        "print(nyc_yellow_tripdata_clean.filter(F.col(variable_to_clean).isNotNull()).count())"
      ],
      "metadata": {
        "colab": {
          "base_uri": "https://localhost:8080/"
        },
        "id": "NPO104mAT_WE",
        "outputId": "596dbf97-c3f5-498f-c273-27d4b5f6cf65"
      },
      "execution_count": null,
      "outputs": [
        {
          "output_type": "stream",
          "name": "stdout",
          "text": [
            "29177804\n",
            "28622077\n"
          ]
        }
      ]
    },
    {
      "cell_type": "code",
      "source": [
        "show_quantiles(nyc_yellow_tripdata_clean, variable_to_clean).show()"
      ],
      "metadata": {
        "colab": {
          "base_uri": "https://localhost:8080/"
        },
        "id": "LwGrEbpCqR9F",
        "outputId": "71b03713-3854-436e-9827-d379c368d614"
      },
      "execution_count": null,
      "outputs": [
        {
          "output_type": "stream",
          "name": "stdout",
          "text": [
            "+----+----+---+----+---+----+---+----+----+----+---+---+-----+-----+----+----+----+----+----+----+-----+----+-----+-----+-----+----+-----+-----+-----+\n",
            "|  %0|  %1| %2|  %3| %4|  %5|%10| %15| %20| %25|%30|%35|  %40|  %45| %50| %55| %60| %65| %70| %75|  %80| %85|  %90|  %95|  %96| %97|  %98|  %99| %100|\n",
            "+----+----+---+----+---+----+---+----+----+----+---+---+-----+-----+----+----+----+----+----+----+-----+----+-----+-----+-----+----+-----+-----+-----+\n",
            "|4.55|4.94|5.3|5.76|5.8|5.94|6.8|7.48|8.15|8.76|9.3|9.8|10.55|11.16|11.8|12.8|13.8|14.8|16.0|17.8|20.15|23.3|29.16|43.86|48.07|52.8|58.56|64.56|70.27|\n",
            "+----+----+---+----+---+----+---+----+----+----+---+---+-----+-----+----+----+----+----+----+----+-----+----+-----+-----+-----+----+-----+-----+-----+\n",
            "\n"
          ]
        }
      ]
    },
    {
      "cell_type": "markdown",
      "source": [
        "## Improvement_surcharge"
      ],
      "metadata": {
        "id": "ezT2qSF8HfFe"
      }
    },
    {
      "cell_type": "markdown",
      "source": [
        "According to the data dictionary, this is a 0.30 dollar improvement surcharge that began being levied in 2015."
      ],
      "metadata": {
        "id": "dkIln-3mq_u2"
      }
    },
    {
      "cell_type": "code",
      "source": [
        "variable_to_clean = \"improvement_surcharge\""
      ],
      "metadata": {
        "id": "5lav0VZlHLt4"
      },
      "execution_count": null,
      "outputs": []
    },
    {
      "cell_type": "code",
      "source": [
        "show_quantiles(nyc_yellow_tripdata_clean, variable_to_clean).show()"
      ],
      "metadata": {
        "colab": {
          "base_uri": "https://localhost:8080/"
        },
        "id": "DiQGata6HLrW",
        "outputId": "3a5b8628-b38a-43b3-994b-4ff98723c7c7"
      },
      "execution_count": null,
      "outputs": [
        {
          "output_type": "stream",
          "name": "stdout",
          "text": [
            "+----+---+---+---+---+---+---+---+---+---+---+---+---+---+---+---+---+---+---+---+---+---+---+---+---+---+---+---+----+\n",
            "|  %0| %1| %2| %3| %4| %5|%10|%15|%20|%25|%30|%35|%40|%45|%50|%55|%60|%65|%70|%75|%80|%85|%90|%95|%96|%97|%98|%99|%100|\n",
            "+----+---+---+---+---+---+---+---+---+---+---+---+---+---+---+---+---+---+---+---+---+---+---+---+---+---+---+---+----+\n",
            "|-0.3|0.3|0.3|0.3|0.3|0.3|0.3|0.3|0.3|0.3|0.3|0.3|0.3|0.3|0.3|0.3|0.3|0.3|0.3|0.3|0.3|0.3|0.3|0.3|0.3|0.3|0.3|0.3| 1.0|\n",
            "+----+---+---+---+---+---+---+---+---+---+---+---+---+---+---+---+---+---+---+---+---+---+---+---+---+---+---+---+----+\n",
            "\n"
          ]
        }
      ]
    },
    {
      "cell_type": "markdown",
      "source": [
        "From the data distribution values we can see that (in line with what is specified in the data dictionary) almost all values are 0.3. Those that are not 0.3 are probably wrong, so we can substitute them with 0.3.\n",
        "\n",
        "If all values are 0.3, this variable will not be of any use for a machine learning model, since it is not adding any relevant information. However, we can still leave it here in case that it helps to understand the values of other variables."
      ],
      "metadata": {
        "id": "BdJm0PhUrM2W"
      }
    },
    {
      "cell_type": "code",
      "source": [
        "nyc_yellow_tripdata_clean = nyc_yellow_tripdata_clean.withColumn(variable_to_clean, F.lit(0.3)) #Even though it is useless for a model, we keep it just in case it helps to understand other values"
      ],
      "metadata": {
        "id": "UVxL57hSGp_Q"
      },
      "execution_count": null,
      "outputs": []
    },
    {
      "cell_type": "code",
      "source": [
        "nyc_yellow_tripdata_clean.groupby(variable_to_clean).count().orderBy(variable_to_clean).show()"
      ],
      "metadata": {
        "colab": {
          "base_uri": "https://localhost:8080/"
        },
        "id": "TuWi9ObAHua_",
        "outputId": "73a62746-0afa-4346-f468-c0da0d8ecaf5"
      },
      "execution_count": null,
      "outputs": [
        {
          "output_type": "stream",
          "name": "stdout",
          "text": [
            "+---------------------+--------+\n",
            "|improvement_surcharge|   count|\n",
            "+---------------------+--------+\n",
            "|                  0.3|29194600|\n",
            "+---------------------+--------+\n",
            "\n"
          ]
        }
      ]
    },
    {
      "cell_type": "markdown",
      "source": [
        "## [TARGET!] Tip_amount"
      ],
      "metadata": {
        "id": "NN2k88VRH-1e"
      }
    },
    {
      "cell_type": "markdown",
      "source": [
        "This is the variable that we want to predict with the machine learning model, so it is important to be extremely careful when cleaning it. According to the data dictionary, this field is automatically populated for credit card\n",
        "tips. Cash tips are not included."
      ],
      "metadata": {
        "id": "-EB8gQ9IrYno"
      }
    },
    {
      "cell_type": "code",
      "source": [
        "variable_to_clean = \"tip_amount\""
      ],
      "metadata": {
        "id": "WpV0w7ZsIJOW"
      },
      "execution_count": null,
      "outputs": []
    },
    {
      "cell_type": "markdown",
      "source": [
        "Firstly, it does not make sense that this variable contains negative values, so we remove those."
      ],
      "metadata": {
        "id": "pm0jFQYFsA_Y"
      }
    },
    {
      "cell_type": "code",
      "source": [
        "print(nyc_yellow_tripdata_clean.filter(F.col(variable_to_clean).isNotNull()).count())\n",
        "nyc_yellow_tripdata_clean = nyc_yellow_tripdata_clean.withColumn(variable_to_clean,F.when(F.col(variable_to_clean) < 0, F.lit(None)).otherwise(F.col(variable_to_clean)))\n",
        "print(nyc_yellow_tripdata_clean.filter(F.col(variable_to_clean).isNotNull()).count())"
      ],
      "metadata": {
        "colab": {
          "base_uri": "https://localhost:8080/"
        },
        "id": "NIlAhvaBGp6u",
        "outputId": "117f633f-02ca-4a3d-b523-da03e8d68aa0"
      },
      "execution_count": null,
      "outputs": [
        {
          "output_type": "stream",
          "name": "stdout",
          "text": [
            "29194600\n",
            "29194404\n"
          ]
        }
      ]
    },
    {
      "cell_type": "markdown",
      "source": [
        "We can observe in the data distribution below that this variable contains many zeros, and it is generally in the range of [0-20] dollars. There are also some very high values (e.g., 450 dollars) that are most probably incorrect."
      ],
      "metadata": {
        "id": "AqmPiRhAsHeN"
      }
    },
    {
      "cell_type": "code",
      "source": [
        "show_quantiles_with_tail_detail(nyc_yellow_tripdata_clean, variable_to_clean).show()"
      ],
      "metadata": {
        "colab": {
          "base_uri": "https://localhost:8080/"
        },
        "id": "Qp0GEOAEIJo3",
        "outputId": "87b9da3c-3d97-4c9b-dcb3-e83c329da55c"
      },
      "execution_count": null,
      "outputs": [
        {
          "output_type": "stream",
          "name": "stdout",
          "text": [
            "+---+----+----+---+---+---+---+---+---+---+---+---+---+---+---+----+----+----+----+---+----+----+----+----+----+----+----+---+----+-----+-----+-----+-----+\n",
            "| %0|%0.1|%0.5| %1| %2| %3| %4| %5|%10|%15|%20|%25|%30|%35|%40| %45| %50| %55| %60|%65| %70| %75| %80| %85| %90| %95| %96|%97| %98|  %99|%99.5|%99.9| %100|\n",
            "+---+----+----+---+---+---+---+---+---+---+---+---+---+---+---+----+----+----+----+---+----+----+----+----+----+----+----+---+----+-----+-----+-----+-----+\n",
            "|0.0| 0.0| 0.0|0.0|0.0|0.0|0.0|0.0|0.0|0.0|0.0|0.0|0.0|0.1|1.0|1.15|1.36|1.56|1.76|2.0|2.16|2.46|2.85|3.35|4.25|6.55|7.51|8.7|10.2|11.71|14.32| 20.0|450.0|\n",
            "+---+----+----+---+---+---+---+---+---+---+---+---+---+---+---+----+----+----+----+---+----+----+----+----+----+----+----+---+----+-----+-----+-----+-----+\n",
            "\n"
          ]
        }
      ]
    },
    {
      "cell_type": "markdown",
      "source": [
        "Since the data dictionary mentions that this variable does not include cash tips, we will firstly analyze how it behaves according to the payment type.\n",
        "\n",
        "The data dictionary indicates that:\n",
        "\n",
        "*   Payment_type = 1 (Credit card)\n",
        "*   Payment_type = 2 (Cash)\n",
        "*   Payment_type = 3 (No charge)\n",
        "*   Payment_type = 4 (Dispute)\n",
        "*   Payment_type = 5 (Unknown)\n",
        "*   Payment_type = 6 (Voided trip)\n",
        "\n",
        "For credit card payments, the most common payment option in the data, the tip amount distribution seems logical (except for the high outliers). This is in line with what is specified in the data dictionary: \"the tip amount field is automatically populated for credit card tips\".\n",
        "\n",
        "On the contrary, the tip amount is almost always zero for cash payments (there are only some values higher than zero on the very end of the distribution). This is also in line with what is specified in the data dictionary for the variable tip_amount: \"Cash tips are not included.\". We could try to extract the tip amount information from another variable in this case, but the only reasonable candidate seems to be the variable total_amount, and it is also specified in the data dictionary that it does not include cash tips.\n",
        "\n",
        "For the other payment types, which are much more less common than credit card/cash, the tip_amount is also zero for a very large part of the distribution. That type of distribution, with so many zeroes, is completely different from the one corresponding to credit card payments, which is the only one that we can trust to be automatically populated according to the data dictionary. Therefore, it seems wise to only mantain the tip_amount values for credit card payments, since apparently that's the only payment option for which the tip amount is being properly collected.\n",
        "\n",
        "There are almost 20 million credit card payments, so it is not  a problem to mantain only those to train the machine learning model. The more input variables that the model has, the more examples that we need to train a machine learning model (because the dimensionality gets higher), but 20 million rows are more than enough to train a machine learning model with this number of input variables."
      ],
      "metadata": {
        "id": "O9UPm_EruATo"
      }
    },
    {
      "cell_type": "code",
      "source": [
        "nyc_yellow_tripdata_clean.groupby('Payment_type').agg(F.expr('count('+variable_to_clean+')'),\n",
        "                                                      F.expr('min('+variable_to_clean+')'),\n",
        "                                                      F.expr('percentile('+variable_to_clean+', 0.25)'),\n",
        "                                                      F.expr('mean('+variable_to_clean+')'),\n",
        "                                                      F.expr('percentile('+variable_to_clean+', 0.75)'),\n",
        "                                                      F.expr('percentile('+variable_to_clean+', 0.80)'),\n",
        "                                                      F.expr('percentile('+variable_to_clean+', 0.85)'),\n",
        "                                                      F.expr('percentile('+variable_to_clean+', 0.90)'),\n",
        "                                                      F.expr('percentile('+variable_to_clean+', 0.95)'),\n",
        "                                                      F.expr('max('+variable_to_clean+')')      \n",
        "                                                      ).show()"
      ],
      "metadata": {
        "colab": {
          "base_uri": "https://localhost:8080/"
        },
        "id": "LoWfYNvquPQj",
        "outputId": "8339bb47-5cfc-43cc-c548-d3f6220fe60f"
      },
      "execution_count": null,
      "outputs": [
        {
          "output_type": "stream",
          "name": "stdout",
          "text": [
            "+------------+-----------------+---------------+----------------------------+--------------------+----------------------------+----------------------------+----------------------------+----------------------------+----------------------------+---------------+\n",
            "|Payment_type|count(tip_amount)|min(tip_amount)|percentile(tip_amount, 0.25)|    mean(tip_amount)|percentile(tip_amount, 0.75)|percentile(tip_amount, 0.80)|percentile(tip_amount, 0.85)|percentile(tip_amount, 0.90)|percentile(tip_amount, 0.95)|max(tip_amount)|\n",
            "+------------+-----------------+---------------+----------------------------+--------------------+----------------------------+----------------------------+----------------------------+----------------------------+----------------------------+---------------+\n",
            "|           1|         19832840|            0.0|                        1.35|  2.7603250734640192|                        3.06|                        3.55|                         4.2|                        5.26|                         8.1|          450.0|\n",
            "|           3|           153731|            0.0|                         0.0|0.002626145670034021|                         0.0|                         0.0|                         0.0|                         0.0|                         0.0|          16.85|\n",
            "|           2|          9164189|            0.0|                         0.0|4.037454923725383...|                         0.0|                         0.0|                         0.0|                         0.0|                         0.0|           1.65|\n",
            "|           4|            43643|            0.0|                         0.0|0.005990651421762943|                         0.0|                         0.0|                         0.0|                         0.0|                         0.0|           55.9|\n",
            "|           5|                1|            0.0|                         0.0|                 0.0|                         0.0|                         0.0|                         0.0|                         0.0|                         0.0|            0.0|\n",
            "+------------+-----------------+---------------+----------------------------+--------------------+----------------------------+----------------------------+----------------------------+----------------------------+----------------------------+---------------+\n",
            "\n"
          ]
        }
      ]
    },
    {
      "cell_type": "code",
      "source": [
        "nyc_yellow_tripdata_clean = nyc_yellow_tripdata_clean.withColumn(variable_to_clean,F.when(F.col('Payment_type') == 1, F.col(variable_to_clean)).otherwise(F.lit(None)))"
      ],
      "metadata": {
        "id": "Qwrp20oNLGBm"
      },
      "execution_count": null,
      "outputs": []
    },
    {
      "cell_type": "code",
      "source": [
        "nyc_yellow_tripdata_clean.groupby('Payment_type').agg(F.expr('count('+variable_to_clean+')'),\n",
        "                                                      F.expr('min('+variable_to_clean+')'),\n",
        "                                                      F.expr('percentile('+variable_to_clean+', 0.25)'),\n",
        "                                                      F.expr('mean('+variable_to_clean+')'),\n",
        "                                                      F.expr('percentile('+variable_to_clean+', 0.75)'),\n",
        "                                                      F.expr('percentile('+variable_to_clean+', 0.80)'),\n",
        "                                                      F.expr('percentile('+variable_to_clean+', 0.85)'),\n",
        "                                                      F.expr('percentile('+variable_to_clean+', 0.90)'),\n",
        "                                                      F.expr('percentile('+variable_to_clean+', 0.95)'),\n",
        "                                                      F.expr('max('+variable_to_clean+')')      \n",
        "                                                      ).show()"
      ],
      "metadata": {
        "colab": {
          "base_uri": "https://localhost:8080/"
        },
        "id": "sBEc32AOMCf_",
        "outputId": "aff2e7f6-9f06-4230-da40-3075ed592cde"
      },
      "execution_count": null,
      "outputs": [
        {
          "output_type": "stream",
          "name": "stdout",
          "text": [
            "+------------+-----------------+---------------+----------------------------+------------------+----------------------------+----------------------------+----------------------------+----------------------------+----------------------------+---------------+\n",
            "|Payment_type|count(tip_amount)|min(tip_amount)|percentile(tip_amount, 0.25)|  mean(tip_amount)|percentile(tip_amount, 0.75)|percentile(tip_amount, 0.80)|percentile(tip_amount, 0.85)|percentile(tip_amount, 0.90)|percentile(tip_amount, 0.95)|max(tip_amount)|\n",
            "+------------+-----------------+---------------+----------------------------+------------------+----------------------------+----------------------------+----------------------------+----------------------------+----------------------------+---------------+\n",
            "|           1|         19832840|            0.0|                        1.35|2.7603250734640192|                        3.06|                        3.55|                         4.2|                        5.26|                         8.1|          450.0|\n",
            "|           3|                0|           null|                        null|              null|                        null|                        null|                        null|                        null|                        null|           null|\n",
            "|           2|                0|           null|                        null|              null|                        null|                        null|                        null|                        null|                        null|           null|\n",
            "|           4|                0|           null|                        null|              null|                        null|                        null|                        null|                        null|                        null|           null|\n",
            "|           5|                0|           null|                        null|              null|                        null|                        null|                        null|                        null|                        null|           null|\n",
            "+------------+-----------------+---------------+----------------------------+------------------+----------------------------+----------------------------+----------------------------+----------------------------+----------------------------+---------------+\n",
            "\n"
          ]
        }
      ]
    },
    {
      "cell_type": "markdown",
      "source": [
        "We also remove the values at the very high tail of the distribution (above the 99.9% percentile), since those seem unreasonably high: "
      ],
      "metadata": {
        "id": "Esc2F5i8MmBe"
      }
    },
    {
      "cell_type": "code",
      "source": [
        "show_quantiles_with_tail_detail(nyc_yellow_tripdata_clean, variable_to_clean).show()"
      ],
      "metadata": {
        "colab": {
          "base_uri": "https://localhost:8080/"
        },
        "id": "EfENK4pGMMPw",
        "outputId": "009288dd-d8c0-46c3-eec5-9d943fc2451d"
      },
      "execution_count": null,
      "outputs": [
        {
          "output_type": "stream",
          "name": "stdout",
          "text": [
            "+---+----+----+---+---+---+---+---+---+---+----+----+---+---+----+----+---+----+----+----+----+----+----+---+----+---+----+-----+-----+-----+-----+-----+-----+\n",
            "| %0|%0.1|%0.5| %1| %2| %3| %4| %5|%10|%15| %20| %25|%30|%35| %40| %45|%50| %55| %60| %65| %70| %75| %80|%85| %90|%95| %96|  %97|  %98|  %99|%99.5|%99.9| %100|\n",
            "+---+----+----+---+---+---+---+---+---+---+----+----+---+---+----+----+---+----+----+----+----+----+----+---+----+---+----+-----+-----+-----+-----+-----+-----+\n",
            "|0.0| 0.0| 0.0|0.0|0.0|0.0|0.0|0.6|1.0|1.0|1.16|1.35|1.5|1.6|1.76|1.95|2.0|2.15|2.32|2.55|2.82|3.06|3.55|4.2|5.26|8.1|9.08|10.08|11.67|12.66| 15.0|21.86|450.0|\n",
            "+---+----+----+---+---+---+---+---+---+---+----+----+---+---+----+----+---+----+----+----+----+----+----+---+----+---+----+-----+-----+-----+-----+-----+-----+\n",
            "\n"
          ]
        }
      ]
    },
    {
      "cell_type": "code",
      "source": [
        "print(nyc_yellow_tripdata_clean.filter(F.col(variable_to_clean).isNotNull()).count())\n",
        "nyc_yellow_tripdata_clean = nyc_yellow_tripdata_clean.withColumn(variable_to_clean,F.when(F.col(variable_to_clean) > nyc_yellow_tripdata_clean.agg(F.expr('percentile('+variable_to_clean+', 0.999)')).collect()[0][0], F.lit(None)).otherwise(F.col(variable_to_clean)))\n",
        "print(nyc_yellow_tripdata_clean.filter(F.col(variable_to_clean).isNotNull()).count())"
      ],
      "metadata": {
        "colab": {
          "base_uri": "https://localhost:8080/"
        },
        "id": "i2lGHdcXIJme",
        "outputId": "9da5691f-93cf-435a-cbdb-ee8bf3d88e96"
      },
      "execution_count": null,
      "outputs": [
        {
          "output_type": "stream",
          "name": "stdout",
          "text": [
            "19832840\n",
            "19813010\n"
          ]
        }
      ]
    },
    {
      "cell_type": "code",
      "source": [
        "show_quantiles_with_tail_detail(nyc_yellow_tripdata_clean, variable_to_clean).show()"
      ],
      "metadata": {
        "colab": {
          "base_uri": "https://localhost:8080/"
        },
        "id": "PjRqxPiPIJkX",
        "outputId": "50c11083-c47e-47c2-bc14-4b81ea075a6b"
      },
      "execution_count": null,
      "outputs": [
        {
          "output_type": "stream",
          "name": "stdout",
          "text": [
            "+---+----+----+---+---+---+---+---+---+---+----+----+---+----+----+----+---+----+----+----+---+----+----+----+---+----+---+----+-----+----+-----+-----+-----+\n",
            "| %0|%0.1|%0.5| %1| %2| %3| %4| %5|%10|%15| %20| %25|%30| %35| %40| %45|%50| %55| %60| %65|%70| %75| %80| %85|%90| %95|%96| %97|  %98| %99|%99.5|%99.9| %100|\n",
            "+---+----+----+---+---+---+---+---+---+---+----+----+---+----+----+----+---+----+----+----+---+----+----+----+---+----+---+----+-----+----+-----+-----+-----+\n",
            "|0.0| 0.0| 0.0|0.0|0.0|0.0|0.0|0.6|1.0|1.0|1.16|1.35|1.5|1.59|1.76|1.95|2.0|2.15|2.32|2.55|2.8|3.06|3.55|4.16|5.2|8.01|9.0|10.0|11.65|12.6|14.64|18.55|21.86|\n",
            "+---+----+----+---+---+---+---+---+---+---+----+----+---+----+----+----+---+----+----+----+---+----+----+----+---+----+---+----+-----+----+-----+-----+-----+\n",
            "\n"
          ]
        }
      ]
    },
    {
      "cell_type": "markdown",
      "source": [
        "## PULocationID & DOLocationID"
      ],
      "metadata": {
        "id": "yZDZP-tBJlt0"
      }
    },
    {
      "cell_type": "markdown",
      "source": [
        "These two variables are TLC taxi zone IDs, so we leave them as they are to be able to use them to obtain the corresponding geometries if any kind of spatial analysis is necessary."
      ],
      "metadata": {
        "id": "T7mJj1RyNC7t"
      }
    },
    {
      "cell_type": "code",
      "source": [
        "nyc_yellow_tripdata_clean.groupby('PULocationID').count().sort(F.desc(\"count\")).show()"
      ],
      "metadata": {
        "colab": {
          "base_uri": "https://localhost:8080/"
        },
        "id": "d39m5wTGuCYZ",
        "outputId": "6e6b6aea-b1d1-4ebd-ccba-2438be9aed7c"
      },
      "execution_count": null,
      "outputs": [
        {
          "output_type": "stream",
          "name": "stdout",
          "text": [
            "+------------+-------+\n",
            "|PULocationID|  count|\n",
            "+------------+-------+\n",
            "|         237|1158300|\n",
            "|         161|1096421|\n",
            "|         236|1052462|\n",
            "|         186|1009238|\n",
            "|         162| 998449|\n",
            "|         230| 987406|\n",
            "|         234| 945678|\n",
            "|         170| 936841|\n",
            "|          48| 915850|\n",
            "|         142| 854307|\n",
            "|          79| 843880|\n",
            "|         163| 793569|\n",
            "|         138| 783563|\n",
            "|         239| 752892|\n",
            "|         164| 695593|\n",
            "|         107| 693345|\n",
            "|         132| 678024|\n",
            "|          68| 676911|\n",
            "|         141| 665129|\n",
            "|         249| 598680|\n",
            "+------------+-------+\n",
            "only showing top 20 rows\n",
            "\n"
          ]
        }
      ]
    },
    {
      "cell_type": "code",
      "source": [
        "nyc_yellow_tripdata_clean.groupby('DOLocationID').count().sort(F.desc(\"count\")).show()"
      ],
      "metadata": {
        "colab": {
          "base_uri": "https://localhost:8080/"
        },
        "id": "e9xi34qJvjMI",
        "outputId": "fdac98a8-187a-4c00-839d-5d1386ba6a3f"
      },
      "execution_count": null,
      "outputs": [
        {
          "output_type": "stream",
          "name": "stdout",
          "text": [
            "+------------+-------+\n",
            "|DOLocationID|  count|\n",
            "+------------+-------+\n",
            "|         236|1090321|\n",
            "|         161|1082368|\n",
            "|         237|1016633|\n",
            "|         170| 933700|\n",
            "|         230| 901857|\n",
            "|         162| 885057|\n",
            "|         234| 812171|\n",
            "|         186| 781972|\n",
            "|          48| 780705|\n",
            "|         142| 759280|\n",
            "|         239| 718019|\n",
            "|         163| 708679|\n",
            "|          79| 696776|\n",
            "|         141| 671440|\n",
            "|          68| 644374|\n",
            "|         164| 618584|\n",
            "|         107| 613887|\n",
            "|         238| 587767|\n",
            "|         263| 523367|\n",
            "|         246| 522124|\n",
            "+------------+-------+\n",
            "only showing top 20 rows\n",
            "\n"
          ]
        }
      ]
    },
    {
      "cell_type": "code",
      "source": [
        "nyc_yellow_tripdata_clean.groupby('PULocationID','DOLocationID').count().sort(F.desc(\"count\")).show()"
      ],
      "metadata": {
        "colab": {
          "base_uri": "https://localhost:8080/"
        },
        "id": "roBSk70svlI4",
        "outputId": "fbecf827-1d5c-43b0-f0c3-950bb6e88e2e"
      },
      "execution_count": null,
      "outputs": [
        {
          "output_type": "stream",
          "name": "stdout",
          "text": [
            "+------------+------------+------+\n",
            "|PULocationID|DOLocationID| count|\n",
            "+------------+------------+------+\n",
            "|         264|         264|388461|\n",
            "|         237|         236|164079|\n",
            "|         236|         236|140366|\n",
            "|         236|         237|134068|\n",
            "|         237|         237|127857|\n",
            "|         239|         238| 80936|\n",
            "|         239|         142| 78684|\n",
            "|         142|         239| 74788|\n",
            "|         237|         162| 73882|\n",
            "|         237|         161| 70201|\n",
            "|         238|         239| 70175|\n",
            "|         161|         237| 67663|\n",
            "|         186|         230| 66629|\n",
            "|         141|         236| 64164|\n",
            "|         230|         186| 63875|\n",
            "|         186|         161| 63236|\n",
            "|          79|          79| 61792|\n",
            "|          48|          48| 61330|\n",
            "|         107|         170| 59693|\n",
            "|         234|         170| 58952|\n",
            "+------------+------------+------+\n",
            "only showing top 20 rows\n",
            "\n"
          ]
        }
      ]
    },
    {
      "cell_type": "markdown",
      "source": [
        "##RatecodeID"
      ],
      "metadata": {
        "id": "ZogDlzy8UaHz"
      }
    },
    {
      "cell_type": "markdown",
      "source": [
        "The variable RatecodeID indicates the final rate code in effect at the end of the trip. According to the data dictionary, the following are the possible values:\n",
        "\n",
        "*   1= Standard rate\n",
        "*   2=JFK\n",
        "*   3=Newark\n",
        "*   4=Nassau or Westchester\n",
        "*   5=Negotiated fare\n",
        "*   6=Group ride\n",
        "\n",
        "\n"
      ],
      "metadata": {
        "id": "ruW-KuIxNw3V"
      }
    },
    {
      "cell_type": "code",
      "source": [
        "variable_to_clean = \"RatecodeID\""
      ],
      "metadata": {
        "id": "pXlA0VayUcLe"
      },
      "execution_count": null,
      "outputs": []
    },
    {
      "cell_type": "code",
      "source": [
        "nyc_yellow_tripdata_clean.groupby(variable_to_clean).count().sort(F.desc(\"count\")).show()"
      ],
      "metadata": {
        "colab": {
          "base_uri": "https://localhost:8080/"
        },
        "id": "2VuVudIzUcJs",
        "outputId": "4ca6b50e-4c71-48b7-dd46-8357cd677bf9"
      },
      "execution_count": null,
      "outputs": [
        {
          "output_type": "stream",
          "name": "stdout",
          "text": [
            "+----------+--------+\n",
            "|RatecodeID|   count|\n",
            "+----------+--------+\n",
            "|         1|28370866|\n",
            "|         2|  650659|\n",
            "|         5|   95612|\n",
            "|         3|   61733|\n",
            "|         4|   15456|\n",
            "|         6|     229|\n",
            "|        99|      45|\n",
            "+----------+--------+\n",
            "\n"
          ]
        }
      ]
    },
    {
      "cell_type": "markdown",
      "source": [
        "We can see above that there are 45 rows with RatecodeID == 99. This rate code is not specified in the data dictionary, so we remove the RatecodeID for those rows:"
      ],
      "metadata": {
        "id": "Q7qxiwu-OGTe"
      }
    },
    {
      "cell_type": "code",
      "source": [
        "print(nyc_yellow_tripdata_clean.filter(F.col(variable_to_clean).isNotNull()).count())\n",
        "nyc_yellow_tripdata_clean = nyc_yellow_tripdata_clean.withColumn(variable_to_clean,F.when(F.col(variable_to_clean) == 99, F.lit(None)).otherwise(F.col(variable_to_clean)))\n",
        "print(nyc_yellow_tripdata_clean.filter(F.col(variable_to_clean).isNotNull()).count())"
      ],
      "metadata": {
        "colab": {
          "base_uri": "https://localhost:8080/"
        },
        "id": "IFBHXznJU-a7",
        "outputId": "379b2771-975c-4f18-f8df-e04553db40f2"
      },
      "execution_count": null,
      "outputs": [
        {
          "output_type": "stream",
          "name": "stdout",
          "text": [
            "29194600\n",
            "29194555\n"
          ]
        }
      ]
    },
    {
      "cell_type": "code",
      "source": [
        "nyc_yellow_tripdata_clean.groupby(variable_to_clean).count().sort(F.desc(\"count\")).show()"
      ],
      "metadata": {
        "colab": {
          "base_uri": "https://localhost:8080/"
        },
        "id": "r9xyX2ZlORMW",
        "outputId": "967b0418-ca67-4dbd-c93a-7f755c35c9b6"
      },
      "execution_count": null,
      "outputs": [
        {
          "output_type": "stream",
          "name": "stdout",
          "text": [
            "+----------+--------+\n",
            "|RatecodeID|   count|\n",
            "+----------+--------+\n",
            "|         1|28370866|\n",
            "|         2|  650659|\n",
            "|         5|   95612|\n",
            "|         3|   61733|\n",
            "|         4|   15456|\n",
            "|         6|     229|\n",
            "|      null|      45|\n",
            "+----------+--------+\n",
            "\n"
          ]
        }
      ]
    },
    {
      "cell_type": "markdown",
      "source": [
        "##Payment_type"
      ],
      "metadata": {
        "id": "hpStLbzCUlJz"
      }
    },
    {
      "cell_type": "markdown",
      "source": [
        "According to the data dictionary, we can expect the following payment types:\n",
        "\n",
        "*   1= Credit card\n",
        "*   2= Cash\n",
        "*   3= No charge\n",
        "*   4= Dispute\n",
        "*   5= Unknown\n",
        "*   6= Voided trip"
      ],
      "metadata": {
        "id": "jiW4p59pOTrl"
      }
    },
    {
      "cell_type": "code",
      "source": [
        "variable_to_clean = \"payment_type\""
      ],
      "metadata": {
        "id": "1LXn7jgoUyIE"
      },
      "execution_count": null,
      "outputs": []
    },
    {
      "cell_type": "markdown",
      "source": [
        "The values of this variable are in line with what is specified in the data dictionary, so we can leave them as they are."
      ],
      "metadata": {
        "id": "99SIGhvKOjXF"
      }
    },
    {
      "cell_type": "code",
      "source": [
        "nyc_yellow_tripdata_clean.groupby(variable_to_clean).count().sort(F.desc(\"count\")).show()"
      ],
      "metadata": {
        "colab": {
          "base_uri": "https://localhost:8080/"
        },
        "id": "9pO9fFqIUyGD",
        "outputId": "ef4c3875-4d6e-48c0-b170-dc800760d975"
      },
      "execution_count": null,
      "outputs": [
        {
          "output_type": "stream",
          "name": "stdout",
          "text": [
            "+------------+--------+\n",
            "|payment_type|   count|\n",
            "+------------+--------+\n",
            "|           1|19832844|\n",
            "|           2| 9164189|\n",
            "|           3|  153885|\n",
            "|           4|   43681|\n",
            "|           5|       1|\n",
            "+------------+--------+\n",
            "\n"
          ]
        }
      ]
    },
    {
      "cell_type": "markdown",
      "source": [
        "##VendorID"
      ],
      "metadata": {
        "id": "ONqgfnuwUp7b"
      }
    },
    {
      "cell_type": "markdown",
      "source": [
        "According to the data dictionary, we can expect the following payment types:\n",
        "\n",
        "* 1= Creative Mobile Technologies, LLC; \n",
        "* 2= VeriFone Inc"
      ],
      "metadata": {
        "id": "vb37WAi5O2Rk"
      }
    },
    {
      "cell_type": "code",
      "source": [
        "variable_to_clean = \"VendorID\""
      ],
      "metadata": {
        "id": "Z80bbBEtO3eO"
      },
      "execution_count": null,
      "outputs": []
    },
    {
      "cell_type": "markdown",
      "source": [
        "The values of this variable are in line with what is specified in the data dictionary, so we can leave them as they are."
      ],
      "metadata": {
        "id": "WcsZfM2gPDwt"
      }
    },
    {
      "cell_type": "code",
      "source": [
        "nyc_yellow_tripdata_clean.groupby(variable_to_clean).count().sort(F.desc(\"count\")).show()"
      ],
      "metadata": {
        "colab": {
          "base_uri": "https://localhost:8080/"
        },
        "id": "IijGNc-TO6EU",
        "outputId": "92a85e9f-65d0-4045-c00f-662708909302"
      },
      "execution_count": null,
      "outputs": [
        {
          "output_type": "stream",
          "name": "stdout",
          "text": [
            "+--------+--------+\n",
            "|VendorID|   count|\n",
            "+--------+--------+\n",
            "|       2|15951269|\n",
            "|       1|13243331|\n",
            "+--------+--------+\n",
            "\n"
          ]
        }
      ]
    },
    {
      "cell_type": "markdown",
      "source": [
        "# Check clean result and save final dataframe"
      ],
      "metadata": {
        "id": "xeKdZSiJfm0R"
      }
    },
    {
      "cell_type": "markdown",
      "source": [
        "After our preprocessing, all variables in the dataset are of numerical types (except for the timestamp variables, which were already cleaned at the beginning of the process):"
      ],
      "metadata": {
        "id": "pcNs6AOyOrvf"
      }
    },
    {
      "cell_type": "code",
      "source": [
        "nyc_yellow_tripdata_clean.printSchema()"
      ],
      "metadata": {
        "colab": {
          "base_uri": "https://localhost:8080/"
        },
        "id": "pfNlWL60UsOL",
        "outputId": "3ff7ed48-f4cc-4c85-b83d-335f71411819"
      },
      "execution_count": null,
      "outputs": [
        {
          "output_type": "stream",
          "name": "stdout",
          "text": [
            "root\n",
            " |-- VendorID: long (nullable = true)\n",
            " |-- tpep_pickup_datetime: timestamp (nullable = true)\n",
            " |-- tpep_dropoff_datetime: timestamp (nullable = true)\n",
            " |-- passenger_count: long (nullable = true)\n",
            " |-- trip_distance: double (nullable = true)\n",
            " |-- RatecodeID: long (nullable = true)\n",
            " |-- store_and_fwd_flag: integer (nullable = false)\n",
            " |-- PULocationID: long (nullable = true)\n",
            " |-- DOLocationID: long (nullable = true)\n",
            " |-- payment_type: long (nullable = true)\n",
            " |-- fare_amount: double (nullable = true)\n",
            " |-- extra: double (nullable = true)\n",
            " |-- mta_tax: double (nullable = false)\n",
            " |-- tip_amount: double (nullable = true)\n",
            " |-- tolls_amount: double (nullable = true)\n",
            " |-- improvement_surcharge: double (nullable = false)\n",
            " |-- total_amount: double (nullable = true)\n",
            " |-- meter_engagement_time_minutes: double (nullable = true)\n",
            "\n"
          ]
        }
      ]
    },
    {
      "cell_type": "markdown",
      "source": [
        "As a final validation step before saving the clean dataset, we check the basic statistics of the numerical variables."
      ],
      "metadata": {
        "id": "h3eco4zDcZ7r"
      }
    },
    {
      "cell_type": "code",
      "source": [
        "nyc_yellow_tripdata_clean.describe().show()"
      ],
      "metadata": {
        "colab": {
          "base_uri": "https://localhost:8080/"
        },
        "id": "kQ2ljhLeJ3a4",
        "outputId": "36a5509a-4a47-443b-abe4-29d0ba1a7b3e"
      },
      "execution_count": null,
      "outputs": [
        {
          "output_type": "stream",
          "name": "stdout",
          "text": [
            "+-------+------------------+------------------+------------------+------------------+--------------------+------------------+------------------+-------------------+------------------+------------------+--------+-----------------+------------------+---------------------+------------------+-----------------------------+\n",
            "|summary|          VendorID|   passenger_count|     trip_distance|        RatecodeID|  store_and_fwd_flag|      PULocationID|      DOLocationID|       payment_type|       fare_amount|             extra| mta_tax|       tip_amount|      tolls_amount|improvement_surcharge|      total_amount|meter_engagement_time_minutes|\n",
            "+-------+------------------+------------------+------------------+------------------+--------------------+------------------+------------------+-------------------+------------------+------------------+--------+-----------------+------------------+---------------------+------------------+-----------------------------+\n",
            "|  count|          29194600|          29143387|          28463613|          29194555|            29194600|          29194600|          29194600|           29194600|          28717024|          29065427|29194600|         19813010|          29095575|             29194600|          28622077|                     28618495|\n",
            "|   mean|1.5463773780082617|1.6210079151060925|2.7722556753423984| 1.041243512702968|0.004218382851623246|163.20198670302042|161.10429596569227| 1.3289308981798005|12.716939629259635|0.3167466626242924|     0.5|2.727650321177854|0.2801836368588629|  0.30000000000034843| 15.85033456028581|           14.266959175176808|\n",
            "| stddev| 0.497844501123225|1.2601813151267023|3.2053430411469788|0.2939470309551637| 0.06481194520782993| 66.61157892056356| 70.43796885713293|0.49015814572956246|  9.88376744339198|0.3708786120899634|     0.0|2.476976824653765|1.2319446643415668|                  0.0|11.971189198391949|           10.612025401313126|\n",
            "|    min|                 1|                 1|               0.3|                 1|                   0|                 1|                 1|                  1|               3.5|               0.0|     0.5|              0.0|               0.0|                  0.3|              4.55|                         1.27|\n",
            "|    max|                 2|                 9|             18.97|                 6|                   1|               265|               265|                  5|              52.0|               1.0|     0.5|            21.86|              5.76|                  0.3|             70.27|                        64.72|\n",
            "+-------+------------------+------------------+------------------+------------------+--------------------+------------------+------------------+-------------------+------------------+------------------+--------+-----------------+------------------+---------------------+------------------+-----------------------------+\n",
            "\n"
          ]
        }
      ]
    },
    {
      "cell_type": "markdown",
      "source": [
        "All of the variables are contained within reasonable ranges now, so we can save the clean dataframe:"
      ],
      "metadata": {
        "id": "dcGD9q-rc9ZL"
      }
    },
    {
      "cell_type": "code",
      "source": [
        "nyc_yellow_tripdata_clean.write.mode('overwrite').parquet(work_folder+\"yellow_tripdata_clean.parquet\")"
      ],
      "metadata": {
        "id": "AYxel6gXKKym"
      },
      "execution_count": null,
      "outputs": []
    },
    {
      "cell_type": "code",
      "source": [
        ""
      ],
      "metadata": {
        "id": "dQNy2xEMdmVD"
      },
      "execution_count": null,
      "outputs": []
    }
  ]
}